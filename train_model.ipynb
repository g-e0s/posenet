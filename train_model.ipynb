{
 "cells": [
  {
   "cell_type": "code",
   "execution_count": null,
   "metadata": {
    "colab": {},
    "colab_type": "code",
    "id": "d8lhl6-gr0GO"
   },
   "outputs": [],
   "source": [
    "import numpy as np\n",
    "import pandas as pd\n",
    "from sklearn.model_selection import train_test_split\n",
    "import tensorflow as tf\n",
    "from keras_preprocessing.image import ImageDataGenerator\n",
    "\n",
    "from data_generator import RandomCropGenerator\n",
    "from model_builder import ModelBuilder"
   ]
  },
  {
   "cell_type": "code",
   "execution_count": null,
   "metadata": {
    "colab": {},
    "colab_type": "code",
    "id": "bW6mvb6yQ_bA"
   },
   "outputs": [],
   "source": [
    "COLUMNS = ['ImageFile', 'POS_X', 'POS_Y', 'POS_Z', 'Q_W', 'Q_X', 'Q_Y', 'Q_Z']\n",
    "IMG_COLUMN = 'ImageFile'\n",
    "POSITION_COLUMNS = ['POS_X', 'POS_Y', 'POS_Z']\n",
    "ORIENTATION_COLUMNS = ['Q_W', 'Q_X', 'Q_Y', 'Q_Z']\n",
    "\n",
    "DIRECTORY = 'camera_relocalization_sample_dataset/images' # folder with images\n",
    "DATA_PATH = 'camera_relocalization_sample_dataset/info.csv' # csv file with labels\n",
    "COLUMN_SEP = ','\n",
    "\n",
    "IMG_SIZE = (256, 256)\n",
    "IMG_CROP_SIZE = (224, 224)\n",
    "POSE_REGRESSOR_SIZE = 2048\n",
    "BETA = 200\n",
    "BATCH_SIZE = 50\n",
    "SHUFFLE = True\n",
    "RANDOM_SEED = 4444"
   ]
  },
  {
   "cell_type": "markdown",
   "metadata": {
    "colab_type": "text",
    "id": "GcbvmL6CRbbG"
   },
   "source": [
    "### Read and split data"
   ]
  },
  {
   "cell_type": "code",
   "execution_count": 4,
   "metadata": {
    "colab": {
     "base_uri": "https://localhost:8080/",
     "height": 212
    },
    "colab_type": "code",
    "id": "WIjmAmUSI6aV",
    "outputId": "428cf243-cbb5-4a16-8c48-c44cd016ac26"
   },
   "outputs": [
    {
     "name": "stdout",
     "output_type": "stream",
     "text": [
      "train size: 900, test_size: 100\n"
     ]
    },
    {
     "data": {
      "text/html": [
       "<div>\n",
       "<style scoped>\n",
       "    .dataframe tbody tr th:only-of-type {\n",
       "        vertical-align: middle;\n",
       "    }\n",
       "\n",
       "    .dataframe tbody tr th {\n",
       "        vertical-align: top;\n",
       "    }\n",
       "\n",
       "    .dataframe thead th {\n",
       "        text-align: right;\n",
       "    }\n",
       "</style>\n",
       "<table border=\"1\" class=\"dataframe\">\n",
       "  <thead>\n",
       "    <tr style=\"text-align: right;\">\n",
       "      <th></th>\n",
       "      <th>POS_X</th>\n",
       "      <th>POS_Y</th>\n",
       "      <th>POS_Z</th>\n",
       "      <th>Q_W</th>\n",
       "      <th>Q_X</th>\n",
       "      <th>Q_Y</th>\n",
       "      <th>Q_Z</th>\n",
       "      <th>ImageFile</th>\n",
       "    </tr>\n",
       "  </thead>\n",
       "  <tbody>\n",
       "    <tr>\n",
       "      <th>435</th>\n",
       "      <td>1.404367</td>\n",
       "      <td>0.621548</td>\n",
       "      <td>-0.038781</td>\n",
       "      <td>0.926828</td>\n",
       "      <td>0.0</td>\n",
       "      <td>-0.0</td>\n",
       "      <td>-0.375486</td>\n",
       "      <td>img_0_0_1542103551932911900.png</td>\n",
       "    </tr>\n",
       "    <tr>\n",
       "      <th>26</th>\n",
       "      <td>-2.294151</td>\n",
       "      <td>-2.619398</td>\n",
       "      <td>-0.038781</td>\n",
       "      <td>0.992391</td>\n",
       "      <td>0.0</td>\n",
       "      <td>-0.0</td>\n",
       "      <td>-0.123129</td>\n",
       "      <td>img_0_0_1542099351874224500.png</td>\n",
       "    </tr>\n",
       "    <tr>\n",
       "      <th>456</th>\n",
       "      <td>1.038382</td>\n",
       "      <td>0.173967</td>\n",
       "      <td>-0.038781</td>\n",
       "      <td>0.800721</td>\n",
       "      <td>-0.0</td>\n",
       "      <td>0.0</td>\n",
       "      <td>0.599037</td>\n",
       "      <td>img_0_0_1542103707070959200.png</td>\n",
       "    </tr>\n",
       "    <tr>\n",
       "      <th>125</th>\n",
       "      <td>0.748456</td>\n",
       "      <td>-0.351675</td>\n",
       "      <td>-0.038781</td>\n",
       "      <td>0.225952</td>\n",
       "      <td>-0.0</td>\n",
       "      <td>0.0</td>\n",
       "      <td>0.974138</td>\n",
       "      <td>img_0_0_1542100318797415700.png</td>\n",
       "    </tr>\n",
       "    <tr>\n",
       "      <th>690</th>\n",
       "      <td>1.482945</td>\n",
       "      <td>-1.242870</td>\n",
       "      <td>-0.038781</td>\n",
       "      <td>1.000000</td>\n",
       "      <td>0.0</td>\n",
       "      <td>-0.0</td>\n",
       "      <td>-0.000002</td>\n",
       "      <td>img_0_0_1542105894912803500.png</td>\n",
       "    </tr>\n",
       "  </tbody>\n",
       "</table>\n",
       "</div>"
      ],
      "text/plain": [
       "        POS_X     POS_Y  ...       Q_Z                        ImageFile\n",
       "435  1.404367  0.621548  ... -0.375486  img_0_0_1542103551932911900.png\n",
       "26  -2.294151 -2.619398  ... -0.123129  img_0_0_1542099351874224500.png\n",
       "456  1.038382  0.173967  ...  0.599037  img_0_0_1542103707070959200.png\n",
       "125  0.748456 -0.351675  ...  0.974138  img_0_0_1542100318797415700.png\n",
       "690  1.482945 -1.242870  ... -0.000002  img_0_0_1542105894912803500.png\n",
       "\n",
       "[5 rows x 8 columns]"
      ]
     },
     "execution_count": 4,
     "metadata": {
      "tags": []
     },
     "output_type": "execute_result"
    }
   ],
   "source": [
    "np.random.seed(RANDOM_SEED)\n",
    "data = pd.read_csv(DATA_PATH, sep=COLUMN_SEP, usecols=COLUMNS)\n",
    "train_data, test_data = train_test_split(data, test_size=0.1)\n",
    "print(f'train size: {train_data.shape[0]}, test_size: {test_data.shape[0]}')\n",
    "train_data.head()"
   ]
  },
  {
   "cell_type": "code",
   "execution_count": 5,
   "metadata": {
    "colab": {
     "base_uri": "https://localhost:8080/",
     "height": 284
    },
    "colab_type": "code",
    "id": "2MvKELbtI6ab",
    "outputId": "d02053ff-3a80-400f-95c1-08c5a09016a0"
   },
   "outputs": [
    {
     "data": {
      "text/html": [
       "<div>\n",
       "<style scoped>\n",
       "    .dataframe tbody tr th:only-of-type {\n",
       "        vertical-align: middle;\n",
       "    }\n",
       "\n",
       "    .dataframe tbody tr th {\n",
       "        vertical-align: top;\n",
       "    }\n",
       "\n",
       "    .dataframe thead th {\n",
       "        text-align: right;\n",
       "    }\n",
       "</style>\n",
       "<table border=\"1\" class=\"dataframe\">\n",
       "  <thead>\n",
       "    <tr style=\"text-align: right;\">\n",
       "      <th></th>\n",
       "      <th>POS_X</th>\n",
       "      <th>POS_Y</th>\n",
       "      <th>POS_Z</th>\n",
       "      <th>Q_W</th>\n",
       "      <th>Q_X</th>\n",
       "      <th>Q_Y</th>\n",
       "      <th>Q_Z</th>\n",
       "    </tr>\n",
       "  </thead>\n",
       "  <tbody>\n",
       "    <tr>\n",
       "      <th>count</th>\n",
       "      <td>900.000000</td>\n",
       "      <td>900.000000</td>\n",
       "      <td>9.000000e+02</td>\n",
       "      <td>900.000000</td>\n",
       "      <td>900.0</td>\n",
       "      <td>900.0</td>\n",
       "      <td>900.000000</td>\n",
       "    </tr>\n",
       "    <tr>\n",
       "      <th>mean</th>\n",
       "      <td>0.040090</td>\n",
       "      <td>-1.369665</td>\n",
       "      <td>-3.878100e-02</td>\n",
       "      <td>0.709123</td>\n",
       "      <td>0.0</td>\n",
       "      <td>0.0</td>\n",
       "      <td>-0.006197</td>\n",
       "    </tr>\n",
       "    <tr>\n",
       "      <th>std</th>\n",
       "      <td>1.483758</td>\n",
       "      <td>1.256425</td>\n",
       "      <td>1.596833e-16</td>\n",
       "      <td>0.317153</td>\n",
       "      <td>0.0</td>\n",
       "      <td>0.0</td>\n",
       "      <td>0.630137</td>\n",
       "    </tr>\n",
       "    <tr>\n",
       "      <th>min</th>\n",
       "      <td>-3.077480</td>\n",
       "      <td>-3.778143</td>\n",
       "      <td>-3.878100e-02</td>\n",
       "      <td>0.000018</td>\n",
       "      <td>0.0</td>\n",
       "      <td>-0.0</td>\n",
       "      <td>-1.000000</td>\n",
       "    </tr>\n",
       "    <tr>\n",
       "      <th>25%</th>\n",
       "      <td>-1.285080</td>\n",
       "      <td>-2.529762</td>\n",
       "      <td>-3.878100e-02</td>\n",
       "      <td>0.474060</td>\n",
       "      <td>0.0</td>\n",
       "      <td>0.0</td>\n",
       "      <td>-0.535099</td>\n",
       "    </tr>\n",
       "    <tr>\n",
       "      <th>50%</th>\n",
       "      <td>0.154681</td>\n",
       "      <td>-1.205611</td>\n",
       "      <td>-3.878100e-02</td>\n",
       "      <td>0.839133</td>\n",
       "      <td>0.0</td>\n",
       "      <td>-0.0</td>\n",
       "      <td>0.002253</td>\n",
       "    </tr>\n",
       "    <tr>\n",
       "      <th>75%</th>\n",
       "      <td>1.440197</td>\n",
       "      <td>-0.358070</td>\n",
       "      <td>-3.878100e-02</td>\n",
       "      <td>0.985918</td>\n",
       "      <td>0.0</td>\n",
       "      <td>0.0</td>\n",
       "      <td>0.556028</td>\n",
       "    </tr>\n",
       "    <tr>\n",
       "      <th>max</th>\n",
       "      <td>2.812647</td>\n",
       "      <td>1.622524</td>\n",
       "      <td>-3.878100e-02</td>\n",
       "      <td>1.000000</td>\n",
       "      <td>0.0</td>\n",
       "      <td>-0.0</td>\n",
       "      <td>1.000000</td>\n",
       "    </tr>\n",
       "  </tbody>\n",
       "</table>\n",
       "</div>"
      ],
      "text/plain": [
       "            POS_X       POS_Y         POS_Z  ...    Q_X    Q_Y         Q_Z\n",
       "count  900.000000  900.000000  9.000000e+02  ...  900.0  900.0  900.000000\n",
       "mean     0.040090   -1.369665 -3.878100e-02  ...    0.0    0.0   -0.006197\n",
       "std      1.483758    1.256425  1.596833e-16  ...    0.0    0.0    0.630137\n",
       "min     -3.077480   -3.778143 -3.878100e-02  ...    0.0   -0.0   -1.000000\n",
       "25%     -1.285080   -2.529762 -3.878100e-02  ...    0.0    0.0   -0.535099\n",
       "50%      0.154681   -1.205611 -3.878100e-02  ...    0.0   -0.0    0.002253\n",
       "75%      1.440197   -0.358070 -3.878100e-02  ...    0.0    0.0    0.556028\n",
       "max      2.812647    1.622524 -3.878100e-02  ...    0.0   -0.0    1.000000\n",
       "\n",
       "[8 rows x 7 columns]"
      ]
     },
     "execution_count": 5,
     "metadata": {
      "tags": []
     },
     "output_type": "execute_result"
    }
   ],
   "source": [
    "train_data.describe()"
   ]
  },
  {
   "cell_type": "markdown",
   "metadata": {
    "colab_type": "text",
    "id": "B4sPA2kNSFYS"
   },
   "source": [
    "### Instantiate data generators"
   ]
  },
  {
   "cell_type": "code",
   "execution_count": 6,
   "metadata": {
    "colab": {
     "base_uri": "https://localhost:8080/",
     "height": 50
    },
    "colab_type": "code",
    "id": "DfB8fBqHSEWP",
    "outputId": "0a7004bf-50ec-40a2-ed4c-f7ea37b6134c"
   },
   "outputs": [
    {
     "name": "stdout",
     "output_type": "stream",
     "text": [
      "Found 900 validated image filenames.\n",
      "Found 100 validated image filenames.\n"
     ]
    }
   ],
   "source": [
    "imagegen = ImageDataGenerator()\n",
    "traingen = RandomCropGenerator(\n",
    "    directory=DIRECTORY, dataframe=train_data, image_data_generator=imagegen,\n",
    "    x_col=IMG_COLUMN, y_col=POSITION_COLUMNS+ORIENTATION_COLUMNS,\n",
    "    target_size=IMG_SIZE, random_crop_shape=IMG_CROP_SIZE,\n",
    "    class_mode='raw', batch_size=BATCH_SIZE, shuffle=SHUFFLE)\n",
    "\n",
    "testgen = RandomCropGenerator(\n",
    "    directory=DIRECTORY, dataframe=test_data, image_data_generator=imagegen,\n",
    "    x_col=IMG_COLUMN, y_col=POSITION_COLUMNS+ORIENTATION_COLUMNS,\n",
    "    target_size=IMG_SIZE, random_crop_shape=IMG_CROP_SIZE,\n",
    "    class_mode='raw', batch_size=BATCH_SIZE, shuffle=SHUFFLE)"
   ]
  },
  {
   "cell_type": "markdown",
   "metadata": {
    "colab_type": "text",
    "id": "RdoswVHHR6sV"
   },
   "source": [
    "### Estimate pose coordinates ranges"
   ]
  },
  {
   "cell_type": "code",
   "execution_count": 7,
   "metadata": {
    "colab": {
     "base_uri": "https://localhost:8080/",
     "height": 50
    },
    "colab_type": "code",
    "id": "SV1Ea0KSI6ae",
    "outputId": "d8321123-ec7e-4609-d855-9da9eb675d50"
   },
   "outputs": [
    {
     "data": {
      "text/plain": [
       "array([5.890127, 5.400667, 0.      , 0.999982, 0.      , 0.      ,\n",
       "       2.      ])"
      ]
     },
     "execution_count": 7,
     "metadata": {
      "tags": []
     },
     "output_type": "execute_result"
    }
   ],
   "source": [
    "position_max = train_data[POSITION_COLUMNS+ORIENTATION_COLUMNS].values.max(axis=0)\n",
    "position_min = train_data[POSITION_COLUMNS+ORIENTATION_COLUMNS].values.min(axis=0)\n",
    "position_ranges = position_max - position_min\n",
    "position_ranges"
   ]
  },
  {
   "cell_type": "markdown",
   "metadata": {
    "colab_type": "text",
    "id": "3qnRn70ISQLP"
   },
   "source": [
    "### Build a model"
   ]
  },
  {
   "cell_type": "code",
   "execution_count": null,
   "metadata": {
    "colab": {},
    "colab_type": "code",
    "id": "SQ0w7fVKI6ak"
   },
   "outputs": [],
   "source": [
    "model_builder = ModelBuilder()"
   ]
  },
  {
   "cell_type": "code",
   "execution_count": 9,
   "metadata": {
    "colab": {
     "base_uri": "https://localhost:8080/",
     "height": 121
    },
    "colab_type": "code",
    "id": "tA7_TTnvI6am",
    "outputId": "37237a9f-da1d-412d-a20f-2bbd8bfeaecb"
   },
   "outputs": [
    {
     "name": "stdout",
     "output_type": "stream",
     "text": [
      "WARNING:tensorflow:From /usr/local/lib/python3.6/dist-packages/tensorflow/python/ops/init_ops.py:1251: calling VarianceScaling.__init__ (from tensorflow.python.ops.init_ops) with dtype is deprecated and will be removed in a future version.\n",
      "Instructions for updating:\n",
      "Call initializer instance with the dtype argument instead of passing it to the constructor\n",
      "WARNING:tensorflow:From posenet/utils.py:31: The name tf.truncated_normal is deprecated. Please use tf.random.truncated_normal instead.\n",
      "\n"
     ]
    }
   ],
   "source": [
    "model = model_builder.build_model(image_size=IMG_CROP_SIZE, pose_regressor_size=POSE_REGRESSOR_SIZE,\n",
    "                                  position_ranges=position_ranges)"
   ]
  },
  {
   "cell_type": "code",
   "execution_count": 10,
   "metadata": {
    "colab": {
     "base_uri": "https://localhost:8080/",
     "height": 1000
    },
    "colab_type": "code",
    "id": "9gT6oCxuI6ap",
    "outputId": "ae75e646-d4b6-4444-9017-411481e04a28"
   },
   "outputs": [
    {
     "name": "stdout",
     "output_type": "stream",
     "text": [
      "WARNING:tensorflow:From posenet/losses.py:19: The name tf.div_no_nan is deprecated. Please use tf.math.divide_no_nan instead.\n",
      "\n",
      "Epoch 1/60\n",
      "18/18 [==============================] - 41s 2s/step - loss: 12.4832 - xyz_loss: 1.9636 - wpqr_loss: 0.4925 - wpqr_orientation_angle: 53.4180 - val_loss: 13.6158 - val_xyz_loss: 6.1365 - val_wpqr_loss: 0.3416 - val_wpqr_orientation_angle: 38.5541\n",
      "Epoch 2/60\n",
      "18/18 [==============================] - 21s 1s/step - loss: 6.7120 - xyz_loss: 1.5625 - wpqr_loss: 0.2261 - wpqr_orientation_angle: 24.2211 - val_loss: 17.9587 - val_xyz_loss: 6.4134 - val_wpqr_loss: 0.5470 - val_wpqr_orientation_angle: 61.6591\n",
      "Epoch 3/60\n",
      "18/18 [==============================] - 21s 1s/step - loss: 5.4167 - xyz_loss: 1.4136 - wpqr_loss: 0.1710 - wpqr_orientation_angle: 17.8431 - val_loss: 11.1120 - val_xyz_loss: 2.0632 - val_wpqr_loss: 0.4244 - val_wpqr_orientation_angle: 37.0072\n",
      "Epoch 4/60\n",
      "18/18 [==============================] - 21s 1s/step - loss: 5.1717 - xyz_loss: 1.3339 - wpqr_loss: 0.1648 - wpqr_orientation_angle: 14.2533 - val_loss: 11.6907 - val_xyz_loss: 2.2080 - val_wpqr_loss: 0.4481 - val_wpqr_orientation_angle: 43.9889\n",
      "Epoch 5/60\n",
      "18/18 [==============================] - 22s 1s/step - loss: 4.5649 - xyz_loss: 1.2461 - wpqr_loss: 0.1407 - wpqr_orientation_angle: 13.9562 - val_loss: 5.7325 - val_xyz_loss: 1.6359 - val_wpqr_loss: 0.1805 - val_wpqr_orientation_angle: 18.9239\n",
      "Epoch 6/60\n",
      "18/18 [==============================] - 21s 1s/step - loss: 4.0498 - xyz_loss: 1.0561 - wpqr_loss: 0.1262 - wpqr_orientation_angle: 12.1334 - val_loss: 5.7396 - val_xyz_loss: 1.0753 - val_wpqr_loss: 0.2105 - val_wpqr_orientation_angle: 23.1180\n",
      "Epoch 7/60\n",
      "18/18 [==============================] - 21s 1s/step - loss: 4.1817 - xyz_loss: 0.9812 - wpqr_loss: 0.1380 - wpqr_orientation_angle: 11.9405 - val_loss: 4.8700 - val_xyz_loss: 1.0769 - val_wpqr_loss: 0.1683 - val_wpqr_orientation_angle: 15.4027\n",
      "Epoch 8/60\n",
      "18/18 [==============================] - 21s 1s/step - loss: 3.8111 - xyz_loss: 0.9434 - wpqr_loss: 0.1227 - wpqr_orientation_angle: 11.1698 - val_loss: 4.7545 - val_xyz_loss: 1.0854 - val_wpqr_loss: 0.1635 - val_wpqr_orientation_angle: 16.5364\n",
      "Epoch 9/60\n",
      "18/18 [==============================] - 21s 1s/step - loss: 3.7674 - xyz_loss: 0.9328 - wpqr_loss: 0.1223 - wpqr_orientation_angle: nan - val_loss: 4.6787 - val_xyz_loss: 1.2198 - val_wpqr_loss: 0.1541 - val_wpqr_orientation_angle: 13.6358\n",
      "Epoch 10/60\n",
      "18/18 [==============================] - 21s 1s/step - loss: 4.1040 - xyz_loss: 0.8736 - wpqr_loss: 0.1432 - wpqr_orientation_angle: nan - val_loss: 6.7729 - val_xyz_loss: 1.3687 - val_wpqr_loss: 0.2524 - val_wpqr_orientation_angle: 24.5143\n",
      "Epoch 11/60\n",
      "18/18 [==============================] - 21s 1s/step - loss: 4.4971 - xyz_loss: 0.8393 - wpqr_loss: 0.1651 - wpqr_orientation_angle: nan - val_loss: 4.3730 - val_xyz_loss: 1.0932 - val_wpqr_loss: 0.1463 - val_wpqr_orientation_angle: 12.6510\n",
      "Epoch 12/60\n",
      "18/18 [==============================] - 22s 1s/step - loss: 3.6287 - xyz_loss: 0.7743 - wpqr_loss: 0.1251 - wpqr_orientation_angle: 8.3891 - val_loss: 3.5972 - val_xyz_loss: 0.8547 - val_wpqr_loss: 0.1195 - val_wpqr_orientation_angle: 9.9460\n",
      "Epoch 13/60\n",
      "18/18 [==============================] - 21s 1s/step - loss: 3.4271 - xyz_loss: 0.7315 - wpqr_loss: 0.1172 - wpqr_orientation_angle: 7.5960 - val_loss: 3.0925 - val_xyz_loss: 0.7470 - val_wpqr_loss: 0.0998 - val_wpqr_orientation_angle: 7.1875\n",
      "Epoch 14/60\n",
      "18/18 [==============================] - 22s 1s/step - loss: 3.2619 - xyz_loss: 0.7030 - wpqr_loss: 0.1105 - wpqr_orientation_angle: 7.8638 - val_loss: 2.8542 - val_xyz_loss: 0.6944 - val_wpqr_loss: 0.0906 - val_wpqr_orientation_angle: 6.0633\n",
      "Epoch 15/60\n",
      "18/18 [==============================] - 22s 1s/step - loss: 3.0422 - xyz_loss: 0.6941 - wpqr_loss: 0.1001 - wpqr_orientation_angle: 7.0703 - val_loss: 2.8159 - val_xyz_loss: 0.6059 - val_wpqr_loss: 0.0932 - val_wpqr_orientation_angle: 6.8448\n",
      "Epoch 16/60\n",
      "18/18 [==============================] - 22s 1s/step - loss: 2.9517 - xyz_loss: 0.6898 - wpqr_loss: 0.0958 - wpqr_orientation_angle: 6.8141 - val_loss: 2.6276 - val_xyz_loss: 0.5793 - val_wpqr_loss: 0.0852 - val_wpqr_orientation_angle: 6.9355\n",
      "Epoch 17/60\n",
      "18/18 [==============================] - 21s 1s/step - loss: 2.8994 - xyz_loss: 0.6580 - wpqr_loss: 0.0949 - wpqr_orientation_angle: nan - val_loss: 2.3551 - val_xyz_loss: 0.5640 - val_wpqr_loss: 0.0725 - val_wpqr_orientation_angle: 6.0825\n",
      "Epoch 18/60\n",
      "18/18 [==============================] - 21s 1s/step - loss: 2.6652 - xyz_loss: 0.6323 - wpqr_loss: 0.0846 - wpqr_orientation_angle: 6.3532 - val_loss: 2.1992 - val_xyz_loss: 0.5546 - val_wpqr_loss: 0.0652 - val_wpqr_orientation_angle: 5.2525\n",
      "Epoch 19/60\n",
      "18/18 [==============================] - 22s 1s/step - loss: 2.6813 - xyz_loss: 0.6425 - wpqr_loss: 0.0850 - wpqr_orientation_angle: 6.2560 - val_loss: 2.0982 - val_xyz_loss: 0.5024 - val_wpqr_loss: 0.0629 - val_wpqr_orientation_angle: 4.9900\n",
      "Epoch 20/60\n",
      "18/18 [==============================] - 22s 1s/step - loss: 2.6076 - xyz_loss: 0.6484 - wpqr_loss: 0.0811 - wpqr_orientation_angle: nan - val_loss: 2.4513 - val_xyz_loss: 0.5326 - val_wpqr_loss: 0.0791 - val_wpqr_orientation_angle: 4.9751\n",
      "Epoch 21/60\n",
      "18/18 [==============================] - 21s 1s/step - loss: 2.4808 - xyz_loss: 0.6345 - wpqr_loss: 0.0755 - wpqr_orientation_angle: 5.9936 - val_loss: 2.0966 - val_xyz_loss: 0.5298 - val_wpqr_loss: 0.0616 - val_wpqr_orientation_angle: 4.7958\n",
      "Epoch 22/60\n",
      "18/18 [==============================] - 22s 1s/step - loss: 2.3613 - xyz_loss: 0.5819 - wpqr_loss: 0.0722 - wpqr_orientation_angle: 5.8183 - val_loss: 2.4433 - val_xyz_loss: 0.5241 - val_wpqr_loss: 0.0792 - val_wpqr_orientation_angle: 4.7280\n",
      "Epoch 23/60\n",
      "18/18 [==============================] - 22s 1s/step - loss: 2.3964 - xyz_loss: 0.6306 - wpqr_loss: 0.0715 - wpqr_orientation_angle: 5.9792 - val_loss: 2.0089 - val_xyz_loss: 0.5042 - val_wpqr_loss: 0.0585 - val_wpqr_orientation_angle: 4.4465\n",
      "Epoch 24/60\n",
      "18/18 [==============================] - 22s 1s/step - loss: 2.4435 - xyz_loss: 0.5994 - wpqr_loss: 0.0755 - wpqr_orientation_angle: 5.9831 - val_loss: 1.9661 - val_xyz_loss: 0.4925 - val_wpqr_loss: 0.0569 - val_wpqr_orientation_angle: 4.2696\n",
      "Epoch 25/60\n",
      "18/18 [==============================] - 21s 1s/step - loss: 2.3356 - xyz_loss: 0.6140 - wpqr_loss: 0.0693 - wpqr_orientation_angle: 6.0332 - val_loss: 2.3724 - val_xyz_loss: 0.5197 - val_wpqr_loss: 0.0759 - val_wpqr_orientation_angle: 4.4189\n",
      "Epoch 26/60\n",
      "18/18 [==============================] - 22s 1s/step - loss: 2.4302 - xyz_loss: 0.6149 - wpqr_loss: 0.0740 - wpqr_orientation_angle: 6.0445 - val_loss: 1.9168 - val_xyz_loss: 0.4945 - val_wpqr_loss: 0.0544 - val_wpqr_orientation_angle: 3.9766\n",
      "Epoch 27/60\n",
      "18/18 [==============================] - 22s 1s/step - loss: 2.3140 - xyz_loss: 0.6029 - wpqr_loss: 0.0688 - wpqr_orientation_angle: 5.8727 - val_loss: 1.9712 - val_xyz_loss: 0.4983 - val_wpqr_loss: 0.0569 - val_wpqr_orientation_angle: 4.2798\n",
      "Epoch 28/60\n",
      "18/18 [==============================] - 22s 1s/step - loss: 2.2167 - xyz_loss: 0.5815 - wpqr_loss: 0.0650 - wpqr_orientation_angle: 5.4671 - val_loss: 1.9591 - val_xyz_loss: 0.5135 - val_wpqr_loss: 0.0556 - val_wpqr_orientation_angle: 4.1293\n",
      "Epoch 29/60\n",
      "18/18 [==============================] - 22s 1s/step - loss: 2.2924 - xyz_loss: 0.5780 - wpqr_loss: 0.0690 - wpqr_orientation_angle: nan - val_loss: 1.9189 - val_xyz_loss: 0.4895 - val_wpqr_loss: 0.0548 - val_wpqr_orientation_angle: 4.0355\n",
      "Epoch 30/60\n",
      "18/18 [==============================] - 22s 1s/step - loss: 2.2684 - xyz_loss: 0.6050 - wpqr_loss: 0.0665 - wpqr_orientation_angle: 5.7080 - val_loss: 1.9890 - val_xyz_loss: 0.4840 - val_wpqr_loss: 0.0586 - val_wpqr_orientation_angle: 4.4718\n",
      "Epoch 31/60\n",
      "18/18 [==============================] - 22s 1s/step - loss: 2.1687 - xyz_loss: 0.5818 - wpqr_loss: 0.0627 - wpqr_orientation_angle: nan - val_loss: 2.0450 - val_xyz_loss: 0.5015 - val_wpqr_loss: 0.0605 - val_wpqr_orientation_angle: 4.6992\n",
      "Epoch 32/60\n",
      "18/18 [==============================] - 21s 1s/step - loss: 2.2038 - xyz_loss: 0.5826 - wpqr_loss: 0.0644 - wpqr_orientation_angle: 5.6794 - val_loss: 2.0054 - val_xyz_loss: 0.5054 - val_wpqr_loss: 0.0583 - val_wpqr_orientation_angle: 4.4521\n",
      "Epoch 33/60\n",
      "18/18 [==============================] - 22s 1s/step - loss: 2.1901 - xyz_loss: 0.5931 - wpqr_loss: 0.0632 - wpqr_orientation_angle: 5.3973 - val_loss: 2.3846 - val_xyz_loss: 0.4761 - val_wpqr_loss: 0.0788 - val_wpqr_orientation_angle: 4.5142\n",
      "Epoch 34/60\n",
      "18/18 [==============================] - 22s 1s/step - loss: 2.2484 - xyz_loss: 0.6214 - wpqr_loss: 0.0647 - wpqr_orientation_angle: 5.4776 - val_loss: 2.3401 - val_xyz_loss: 0.4922 - val_wpqr_loss: 0.0758 - val_wpqr_orientation_angle: 4.2001\n",
      "Epoch 35/60\n",
      "18/18 [==============================] - 22s 1s/step - loss: 2.1974 - xyz_loss: 0.5944 - wpqr_loss: 0.0635 - wpqr_orientation_angle: 5.8152 - val_loss: 2.3081 - val_xyz_loss: 0.4868 - val_wpqr_loss: 0.0744 - val_wpqr_orientation_angle: 4.1805\n",
      "Epoch 36/60\n",
      "18/18 [==============================] - 22s 1s/step - loss: 2.1655 - xyz_loss: 0.6066 - wpqr_loss: 0.0613 - wpqr_orientation_angle: nan - val_loss: 2.3665 - val_xyz_loss: 0.4948 - val_wpqr_loss: 0.0770 - val_wpqr_orientation_angle: 4.3115\n",
      "Epoch 37/60\n",
      "18/18 [==============================] - 22s 1s/step - loss: 2.2419 - xyz_loss: 0.6006 - wpqr_loss: 0.0654 - wpqr_orientation_angle: nan - val_loss: 1.9627 - val_xyz_loss: 0.4998 - val_wpqr_loss: 0.0565 - val_wpqr_orientation_angle: 4.2586\n",
      "Epoch 38/60\n",
      "18/18 [==============================] - 22s 1s/step - loss: 2.1803 - xyz_loss: 0.6019 - wpqr_loss: 0.0623 - wpqr_orientation_angle: 5.7105 - val_loss: 1.9863 - val_xyz_loss: 0.4701 - val_wpqr_loss: 0.0592 - val_wpqr_orientation_angle: 4.5788\n",
      "Epoch 39/60\n",
      "18/18 [==============================] - 22s 1s/step - loss: 2.2221 - xyz_loss: 0.5896 - wpqr_loss: 0.0650 - wpqr_orientation_angle: 5.5130 - val_loss: 1.8968 - val_xyz_loss: 0.4783 - val_wpqr_loss: 0.0543 - val_wpqr_orientation_angle: 4.0077\n",
      "Epoch 40/60\n",
      "18/18 [==============================] - 22s 1s/step - loss: 2.0195 - xyz_loss: 0.5826 - wpqr_loss: 0.0553 - wpqr_orientation_angle: 5.3727 - val_loss: 1.9267 - val_xyz_loss: 0.4547 - val_wpqr_loss: 0.0570 - val_wpqr_orientation_angle: 4.3173\n",
      "Epoch 41/60\n",
      "18/18 [==============================] - 22s 1s/step - loss: 2.1802 - xyz_loss: 0.5729 - wpqr_loss: 0.0638 - wpqr_orientation_angle: 6.4477 - val_loss: 1.5070 - val_xyz_loss: 0.4631 - val_wpqr_loss: 0.0356 - val_wpqr_orientation_angle: 4.0846\n",
      "Epoch 42/60\n",
      "18/18 [==============================] - 22s 1s/step - loss: 1.9987 - xyz_loss: 0.5841 - wpqr_loss: 0.0542 - wpqr_orientation_angle: 5.2465 - val_loss: 2.2732 - val_xyz_loss: 0.4516 - val_wpqr_loss: 0.0745 - val_wpqr_orientation_angle: nan\n",
      "Epoch 43/60\n",
      "18/18 [==============================] - 22s 1s/step - loss: 2.0431 - xyz_loss: 0.6044 - wpqr_loss: 0.0554 - wpqr_orientation_angle: 5.1227 - val_loss: 2.2139 - val_xyz_loss: 0.4616 - val_wpqr_loss: 0.0711 - val_wpqr_orientation_angle: 3.6380\n",
      "Epoch 44/60\n",
      "18/18 [==============================] - 22s 1s/step - loss: 2.0499 - xyz_loss: 0.5748 - wpqr_loss: 0.0572 - wpqr_orientation_angle: nan - val_loss: 2.2003 - val_xyz_loss: 0.4740 - val_wpqr_loss: 0.0698 - val_wpqr_orientation_angle: nan\n",
      "Epoch 45/60\n",
      "18/18 [==============================] - 22s 1s/step - loss: 2.1292 - xyz_loss: 0.5799 - wpqr_loss: 0.0610 - wpqr_orientation_angle: 5.3490 - val_loss: 2.2780 - val_xyz_loss: 0.4701 - val_wpqr_loss: 0.0739 - val_wpqr_orientation_angle: 4.0127\n",
      "Epoch 46/60\n",
      "18/18 [==============================] - 22s 1s/step - loss: 2.1220 - xyz_loss: 0.5735 - wpqr_loss: 0.0609 - wpqr_orientation_angle: 5.4949 - val_loss: 2.2728 - val_xyz_loss: 0.4634 - val_wpqr_loss: 0.0740 - val_wpqr_orientation_angle: nan\n",
      "Epoch 47/60\n",
      "18/18 [==============================] - 22s 1s/step - loss: 2.0106 - xyz_loss: 0.5916 - wpqr_loss: 0.0545 - wpqr_orientation_angle: nan - val_loss: 2.2624 - val_xyz_loss: 0.4439 - val_wpqr_loss: 0.0744 - val_wpqr_orientation_angle: 4.0574\n",
      "Epoch 48/60\n",
      "18/18 [==============================] - 22s 1s/step - loss: 2.1123 - xyz_loss: 0.5706 - wpqr_loss: 0.0606 - wpqr_orientation_angle: 5.4778 - val_loss: 2.2790 - val_xyz_loss: 0.4568 - val_wpqr_loss: 0.0746 - val_wpqr_orientation_angle: 4.0831\n",
      "Epoch 49/60\n",
      "18/18 [==============================] - 22s 1s/step - loss: 1.9767 - xyz_loss: 0.5726 - wpqr_loss: 0.0537 - wpqr_orientation_angle: 5.1530 - val_loss: 1.8586 - val_xyz_loss: 0.4533 - val_wpqr_loss: 0.0538 - val_wpqr_orientation_angle: 3.9538\n",
      "Epoch 50/60\n",
      "18/18 [==============================] - 22s 1s/step - loss: 2.1203 - xyz_loss: 0.5956 - wpqr_loss: 0.0598 - wpqr_orientation_angle: 5.6661 - val_loss: 1.7945 - val_xyz_loss: 0.4557 - val_wpqr_loss: 0.0505 - val_wpqr_orientation_angle: 3.6095\n",
      "Epoch 51/60\n",
      "18/18 [==============================] - 22s 1s/step - loss: 1.9956 - xyz_loss: 0.5884 - wpqr_loss: 0.0539 - wpqr_orientation_angle: nan - val_loss: 1.8371 - val_xyz_loss: 0.4699 - val_wpqr_loss: 0.0519 - val_wpqr_orientation_angle: 3.8552\n",
      "Epoch 52/60\n",
      "18/18 [==============================] - 21s 1s/step - loss: 2.0535 - xyz_loss: 0.5788 - wpqr_loss: 0.0573 - wpqr_orientation_angle: nan - val_loss: 1.8376 - val_xyz_loss: 0.4740 - val_wpqr_loss: 0.0518 - val_wpqr_orientation_angle: 3.7967\n",
      "Epoch 53/60\n",
      "18/18 [==============================] - 22s 1s/step - loss: 2.1104 - xyz_loss: 0.5817 - wpqr_loss: 0.0600 - wpqr_orientation_angle: nan - val_loss: 1.8247 - val_xyz_loss: 0.4745 - val_wpqr_loss: 0.0511 - val_wpqr_orientation_angle: 3.7992\n",
      "Epoch 54/60\n",
      "18/18 [==============================] - 22s 1s/step - loss: 2.0669 - xyz_loss: 0.5736 - wpqr_loss: 0.0583 - wpqr_orientation_angle: nan - val_loss: 1.8367 - val_xyz_loss: 0.4490 - val_wpqr_loss: 0.0530 - val_wpqr_orientation_angle: 3.8155\n",
      "Epoch 55/60\n",
      "18/18 [==============================] - 22s 1s/step - loss: 2.1327 - xyz_loss: 0.5942 - wpqr_loss: 0.0605 - wpqr_orientation_angle: 5.4789 - val_loss: 1.9137 - val_xyz_loss: 0.4678 - val_wpqr_loss: 0.0559 - val_wpqr_orientation_angle: 4.1774\n",
      "Epoch 56/60\n",
      "18/18 [==============================] - 22s 1s/step - loss: 1.9938 - xyz_loss: 0.5754 - wpqr_loss: 0.0545 - wpqr_orientation_angle: 5.2927 - val_loss: 1.8068 - val_xyz_loss: 0.4645 - val_wpqr_loss: 0.0507 - val_wpqr_orientation_angle: 3.5557\n",
      "Epoch 57/60\n",
      "18/18 [==============================] - 21s 1s/step - loss: 2.1019 - xyz_loss: 0.5734 - wpqr_loss: 0.0601 - wpqr_orientation_angle: 5.7838 - val_loss: 2.0215 - val_xyz_loss: 0.4355 - val_wpqr_loss: 0.0629 - val_wpqr_orientation_angle: 4.9975\n",
      "Epoch 58/60\n",
      "18/18 [==============================] - 21s 1s/step - loss: 1.9550 - xyz_loss: 0.5650 - wpqr_loss: 0.0531 - wpqr_orientation_angle: nan - val_loss: 2.1518 - val_xyz_loss: 0.4379 - val_wpqr_loss: 0.0693 - val_wpqr_orientation_angle: 3.7270\n",
      "Epoch 59/60\n",
      "18/18 [==============================] - 22s 1s/step - loss: 1.9360 - xyz_loss: 0.5818 - wpqr_loss: 0.0514 - wpqr_orientation_angle: 5.1365 - val_loss: 2.2120 - val_xyz_loss: 0.4429 - val_wpqr_loss: 0.0721 - val_wpqr_orientation_angle: 3.7979\n",
      "Epoch 60/60\n",
      "18/18 [==============================] - 22s 1s/step - loss: 2.1852 - xyz_loss: 0.5885 - wpqr_loss: 0.0635 - wpqr_orientation_angle: nan - val_loss: 2.1384 - val_xyz_loss: 0.4543 - val_wpqr_loss: 0.0679 - val_wpqr_orientation_angle: 3.2859\n"
     ]
    }
   ],
   "source": [
    "model_builder.fit_model(model, traingen, testgen,\n",
    "                        epochs=60, lr=0.001, lr_decay_rate=0.1, lr_decay_step=10, min_lr=0.00001,\n",
    "                        beta=20)"
   ]
  },
  {
   "cell_type": "code",
   "execution_count": null,
   "metadata": {
    "colab": {},
    "colab_type": "code",
    "id": "oDEv2cYiI6ax"
   },
   "outputs": [],
   "source": [
    "model.save('model.h5py')"
   ]
  },
  {
   "cell_type": "code",
   "execution_count": null,
   "metadata": {
    "colab": {},
    "colab_type": "code",
    "id": "8FcYhXJhBDjc"
   },
   "outputs": [],
   "source": []
  }
 ],
 "metadata": {
  "accelerator": "GPU",
  "colab": {
   "collapsed_sections": [],
   "name": "Copy of train_model.ipynb",
   "provenance": []
  },
  "kernelspec": {
   "display_name": "Python 3",
   "language": "python",
   "name": "python3"
  },
  "language_info": {
   "codemirror_mode": {
    "name": "ipython",
    "version": 3
   },
   "file_extension": ".py",
   "mimetype": "text/x-python",
   "name": "python",
   "nbconvert_exporter": "python",
   "pygments_lexer": "ipython3",
   "version": "3.7.1"
  }
 },
 "nbformat": 4,
 "nbformat_minor": 2
}
