{
 "cells": [
  {
   "cell_type": "code",
   "execution_count": 1,
   "metadata": {},
   "outputs": [],
   "source": [
    "import numpy as np\n",
    "import pandas as pd\n",
    "from sklearn.model_selection import train_test_split\n",
    "import tensorflow as tf\n",
    "from keras_preprocessing.image import ImageDataGenerator\n",
    "\n",
    "from data_generator import DFIterator\n",
    "from model_builder import ModelBuilder"
   ]
  },
  {
   "cell_type": "code",
   "execution_count": 2,
   "metadata": {},
   "outputs": [],
   "source": [
    "COLUMNS = ['ImageFile', 'POS_X', 'POS_Y', 'POS_Z', 'Q_W', 'Q_X', 'Q_Y', 'Q_Z']\n",
    "IMG_COLUMN = 'ImageFile'\n",
    "POSITION_COLUMNS = ['POS_X', 'POS_Y', 'POS_Z']\n",
    "ORIENTATION_COLUMNS = ['Q_W', 'Q_X', 'Q_Y', 'Q_Z']\n",
    "\n",
    "DIRECTORY = 'camera_relocalization_sample_dataset/images'\n",
    "DATA_PATH = 'camera_relocalization_sample_dataset/info.csv'\n",
    "COLUMN_SEP = ','\n",
    "\n",
    "IMG_SIZE = (256, 256)\n",
    "IMG_CROP_SIZE = (224, 224)\n",
    "POSE_REGRESSOR_SIZE = 1024\n",
    "BETA = 200\n",
    "BATCH_SIZE = 50\n",
    "SHUFFLE = True\n",
    "RANDOM_SEED = 4444"
   ]
  },
  {
   "cell_type": "code",
   "execution_count": 3,
   "metadata": {},
   "outputs": [
    {
     "name": "stdout",
     "output_type": "stream",
     "text": [
      "train size: 900, test_size: 100\n"
     ]
    },
    {
     "data": {
      "text/html": [
       "<div>\n",
       "<style scoped>\n",
       "    .dataframe tbody tr th:only-of-type {\n",
       "        vertical-align: middle;\n",
       "    }\n",
       "\n",
       "    .dataframe tbody tr th {\n",
       "        vertical-align: top;\n",
       "    }\n",
       "\n",
       "    .dataframe thead th {\n",
       "        text-align: right;\n",
       "    }\n",
       "</style>\n",
       "<table border=\"1\" class=\"dataframe\">\n",
       "  <thead>\n",
       "    <tr style=\"text-align: right;\">\n",
       "      <th></th>\n",
       "      <th>POS_X</th>\n",
       "      <th>POS_Y</th>\n",
       "      <th>POS_Z</th>\n",
       "      <th>Q_W</th>\n",
       "      <th>Q_X</th>\n",
       "      <th>Q_Y</th>\n",
       "      <th>Q_Z</th>\n",
       "      <th>ImageFile</th>\n",
       "    </tr>\n",
       "  </thead>\n",
       "  <tbody>\n",
       "    <tr>\n",
       "      <th>435</th>\n",
       "      <td>1.404367</td>\n",
       "      <td>0.621548</td>\n",
       "      <td>-0.038781</td>\n",
       "      <td>0.926828</td>\n",
       "      <td>0.0</td>\n",
       "      <td>-0.0</td>\n",
       "      <td>-0.375486</td>\n",
       "      <td>img_0_0_1542103551932911900.png</td>\n",
       "    </tr>\n",
       "    <tr>\n",
       "      <th>26</th>\n",
       "      <td>-2.294151</td>\n",
       "      <td>-2.619398</td>\n",
       "      <td>-0.038781</td>\n",
       "      <td>0.992391</td>\n",
       "      <td>0.0</td>\n",
       "      <td>-0.0</td>\n",
       "      <td>-0.123129</td>\n",
       "      <td>img_0_0_1542099351874224500.png</td>\n",
       "    </tr>\n",
       "    <tr>\n",
       "      <th>456</th>\n",
       "      <td>1.038382</td>\n",
       "      <td>0.173967</td>\n",
       "      <td>-0.038781</td>\n",
       "      <td>0.800721</td>\n",
       "      <td>-0.0</td>\n",
       "      <td>0.0</td>\n",
       "      <td>0.599037</td>\n",
       "      <td>img_0_0_1542103707070959200.png</td>\n",
       "    </tr>\n",
       "    <tr>\n",
       "      <th>125</th>\n",
       "      <td>0.748456</td>\n",
       "      <td>-0.351675</td>\n",
       "      <td>-0.038781</td>\n",
       "      <td>0.225952</td>\n",
       "      <td>-0.0</td>\n",
       "      <td>0.0</td>\n",
       "      <td>0.974138</td>\n",
       "      <td>img_0_0_1542100318797415700.png</td>\n",
       "    </tr>\n",
       "    <tr>\n",
       "      <th>690</th>\n",
       "      <td>1.482945</td>\n",
       "      <td>-1.242870</td>\n",
       "      <td>-0.038781</td>\n",
       "      <td>1.000000</td>\n",
       "      <td>0.0</td>\n",
       "      <td>-0.0</td>\n",
       "      <td>-0.000002</td>\n",
       "      <td>img_0_0_1542105894912803500.png</td>\n",
       "    </tr>\n",
       "  </tbody>\n",
       "</table>\n",
       "</div>"
      ],
      "text/plain": [
       "        POS_X     POS_Y     POS_Z       Q_W  Q_X  Q_Y       Q_Z  \\\n",
       "435  1.404367  0.621548 -0.038781  0.926828  0.0 -0.0 -0.375486   \n",
       "26  -2.294151 -2.619398 -0.038781  0.992391  0.0 -0.0 -0.123129   \n",
       "456  1.038382  0.173967 -0.038781  0.800721 -0.0  0.0  0.599037   \n",
       "125  0.748456 -0.351675 -0.038781  0.225952 -0.0  0.0  0.974138   \n",
       "690  1.482945 -1.242870 -0.038781  1.000000  0.0 -0.0 -0.000002   \n",
       "\n",
       "                           ImageFile  \n",
       "435  img_0_0_1542103551932911900.png  \n",
       "26   img_0_0_1542099351874224500.png  \n",
       "456  img_0_0_1542103707070959200.png  \n",
       "125  img_0_0_1542100318797415700.png  \n",
       "690  img_0_0_1542105894912803500.png  "
      ]
     },
     "execution_count": 3,
     "metadata": {},
     "output_type": "execute_result"
    }
   ],
   "source": [
    "np.random.seed(RANDOM_SEED)\n",
    "data = pd.read_csv(DATA_PATH, sep=COLUMN_SEP, usecols=COLUMNS)\n",
    "train_data, test_data = train_test_split(data, test_size=0.1)\n",
    "print(f'train size: {train_data.shape[0]}, test_size: {test_data.shape[0]}')\n",
    "train_data.head()"
   ]
  },
  {
   "cell_type": "code",
   "execution_count": 4,
   "metadata": {},
   "outputs": [
    {
     "data": {
      "text/html": [
       "<div>\n",
       "<style scoped>\n",
       "    .dataframe tbody tr th:only-of-type {\n",
       "        vertical-align: middle;\n",
       "    }\n",
       "\n",
       "    .dataframe tbody tr th {\n",
       "        vertical-align: top;\n",
       "    }\n",
       "\n",
       "    .dataframe thead th {\n",
       "        text-align: right;\n",
       "    }\n",
       "</style>\n",
       "<table border=\"1\" class=\"dataframe\">\n",
       "  <thead>\n",
       "    <tr style=\"text-align: right;\">\n",
       "      <th></th>\n",
       "      <th>POS_X</th>\n",
       "      <th>POS_Y</th>\n",
       "      <th>POS_Z</th>\n",
       "      <th>Q_W</th>\n",
       "      <th>Q_X</th>\n",
       "      <th>Q_Y</th>\n",
       "      <th>Q_Z</th>\n",
       "    </tr>\n",
       "  </thead>\n",
       "  <tbody>\n",
       "    <tr>\n",
       "      <th>count</th>\n",
       "      <td>900.000000</td>\n",
       "      <td>900.000000</td>\n",
       "      <td>9.000000e+02</td>\n",
       "      <td>900.000000</td>\n",
       "      <td>900.0</td>\n",
       "      <td>900.0</td>\n",
       "      <td>900.000000</td>\n",
       "    </tr>\n",
       "    <tr>\n",
       "      <th>mean</th>\n",
       "      <td>0.040090</td>\n",
       "      <td>-1.369665</td>\n",
       "      <td>-3.878100e-02</td>\n",
       "      <td>0.709123</td>\n",
       "      <td>0.0</td>\n",
       "      <td>0.0</td>\n",
       "      <td>-0.006197</td>\n",
       "    </tr>\n",
       "    <tr>\n",
       "      <th>std</th>\n",
       "      <td>1.483758</td>\n",
       "      <td>1.256425</td>\n",
       "      <td>1.596833e-16</td>\n",
       "      <td>0.317153</td>\n",
       "      <td>0.0</td>\n",
       "      <td>0.0</td>\n",
       "      <td>0.630137</td>\n",
       "    </tr>\n",
       "    <tr>\n",
       "      <th>min</th>\n",
       "      <td>-3.077480</td>\n",
       "      <td>-3.778143</td>\n",
       "      <td>-3.878100e-02</td>\n",
       "      <td>0.000018</td>\n",
       "      <td>0.0</td>\n",
       "      <td>-0.0</td>\n",
       "      <td>-1.000000</td>\n",
       "    </tr>\n",
       "    <tr>\n",
       "      <th>25%</th>\n",
       "      <td>-1.285080</td>\n",
       "      <td>-2.529762</td>\n",
       "      <td>-3.878100e-02</td>\n",
       "      <td>0.474060</td>\n",
       "      <td>0.0</td>\n",
       "      <td>0.0</td>\n",
       "      <td>-0.535099</td>\n",
       "    </tr>\n",
       "    <tr>\n",
       "      <th>50%</th>\n",
       "      <td>0.154681</td>\n",
       "      <td>-1.205611</td>\n",
       "      <td>-3.878100e-02</td>\n",
       "      <td>0.839133</td>\n",
       "      <td>0.0</td>\n",
       "      <td>-0.0</td>\n",
       "      <td>0.002253</td>\n",
       "    </tr>\n",
       "    <tr>\n",
       "      <th>75%</th>\n",
       "      <td>1.440197</td>\n",
       "      <td>-0.358070</td>\n",
       "      <td>-3.878100e-02</td>\n",
       "      <td>0.985918</td>\n",
       "      <td>0.0</td>\n",
       "      <td>0.0</td>\n",
       "      <td>0.556028</td>\n",
       "    </tr>\n",
       "    <tr>\n",
       "      <th>max</th>\n",
       "      <td>2.812647</td>\n",
       "      <td>1.622524</td>\n",
       "      <td>-3.878100e-02</td>\n",
       "      <td>1.000000</td>\n",
       "      <td>0.0</td>\n",
       "      <td>-0.0</td>\n",
       "      <td>1.000000</td>\n",
       "    </tr>\n",
       "  </tbody>\n",
       "</table>\n",
       "</div>"
      ],
      "text/plain": [
       "            POS_X       POS_Y         POS_Z         Q_W    Q_X    Q_Y  \\\n",
       "count  900.000000  900.000000  9.000000e+02  900.000000  900.0  900.0   \n",
       "mean     0.040090   -1.369665 -3.878100e-02    0.709123    0.0    0.0   \n",
       "std      1.483758    1.256425  1.596833e-16    0.317153    0.0    0.0   \n",
       "min     -3.077480   -3.778143 -3.878100e-02    0.000018    0.0   -0.0   \n",
       "25%     -1.285080   -2.529762 -3.878100e-02    0.474060    0.0    0.0   \n",
       "50%      0.154681   -1.205611 -3.878100e-02    0.839133    0.0   -0.0   \n",
       "75%      1.440197   -0.358070 -3.878100e-02    0.985918    0.0    0.0   \n",
       "max      2.812647    1.622524 -3.878100e-02    1.000000    0.0   -0.0   \n",
       "\n",
       "              Q_Z  \n",
       "count  900.000000  \n",
       "mean    -0.006197  \n",
       "std      0.630137  \n",
       "min     -1.000000  \n",
       "25%     -0.535099  \n",
       "50%      0.002253  \n",
       "75%      0.556028  \n",
       "max      1.000000  "
      ]
     },
     "execution_count": 4,
     "metadata": {},
     "output_type": "execute_result"
    }
   ],
   "source": [
    "train_data.describe()"
   ]
  },
  {
   "cell_type": "code",
   "execution_count": 5,
   "metadata": {},
   "outputs": [
    {
     "data": {
      "text/plain": [
       "array([5.890127, 5.400667, 0.      , 0.999982, 0.      , 0.      ,\n",
       "       2.      ])"
      ]
     },
     "execution_count": 5,
     "metadata": {},
     "output_type": "execute_result"
    }
   ],
   "source": [
    "position_max = train_data[POSITION_COLUMNS+ORIENTATION_COLUMNS].values.max(axis=0)\n",
    "position_min = train_data[POSITION_COLUMNS+ORIENTATION_COLUMNS].values.min(axis=0)\n",
    "position_ranges = position_max - position_min\n",
    "position_ranges"
   ]
  },
  {
   "cell_type": "code",
   "execution_count": 6,
   "metadata": {},
   "outputs": [
    {
     "name": "stdout",
     "output_type": "stream",
     "text": [
      "Found 900 validated image filenames.\n",
      "Found 100 validated image filenames.\n"
     ]
    }
   ],
   "source": [
    "imagegen = ImageDataGenerator()\n",
    "traingen = DFIterator(\n",
    "    directory=DIRECTORY, dataframe=train_data, image_data_generator=imagegen,\n",
    "    x_col=IMG_COLUMN, y_col=POSITION_COLUMNS+ORIENTATION_COLUMNS,\n",
    "    target_size=IMG_SIZE, random_crop_shape=IMG_CROP_SIZE,\n",
    "    class_mode='raw', batch_size=BATCH_SIZE, shuffle=SHUFFLE)\n",
    "\n",
    "testgen = DFIterator(\n",
    "    directory=DIRECTORY, dataframe=test_data, image_data_generator=imagegen,\n",
    "    x_col=IMG_COLUMN, y_col=POSITION_COLUMNS+ORIENTATION_COLUMNS,\n",
    "    target_size=IMG_SIZE, random_crop_shape=IMG_CROP_SIZE,\n",
    "    class_mode='raw', batch_size=BATCH_SIZE, shuffle=SHUFFLE)"
   ]
  },
  {
   "cell_type": "code",
   "execution_count": 7,
   "metadata": {},
   "outputs": [],
   "source": [
    "model_builder = ModelBuilder()"
   ]
  },
  {
   "cell_type": "code",
   "execution_count": 8,
   "metadata": {},
   "outputs": [
    {
     "name": "stdout",
     "output_type": "stream",
     "text": [
      "WARNING:tensorflow:From C:\\Users\\mi\\Anaconda3\\lib\\site-packages\\tensorflow\\python\\ops\\resource_variable_ops.py:435: colocate_with (from tensorflow.python.framework.ops) is deprecated and will be removed in a future version.\n",
      "Instructions for updating:\n",
      "Colocations handled automatically by placer.\n",
      "WARNING:tensorflow:From C:\\Users\\mi\\Anaconda3\\lib\\site-packages\\tensorflow\\python\\keras\\layers\\core.py:143: calling dropout (from tensorflow.python.ops.nn_ops) with keep_prob is deprecated and will be removed in a future version.\n",
      "Instructions for updating:\n",
      "Please use `rate` instead of `keep_prob`. Rate should be set to `rate = 1 - keep_prob`.\n"
     ]
    }
   ],
   "source": [
    "model = model_builder.build_model(image_size=IMG_CROP_SIZE, pose_regressor_size=POSE_REGRESSOR_SIZE,\n",
    "                                  position_ranges=position_ranges)"
   ]
  },
  {
   "cell_type": "code",
   "execution_count": 9,
   "metadata": {},
   "outputs": [],
   "source": [
    "model_builder.compile_model(model, lr=0.0001, momentum=0.9, beta=50)"
   ]
  },
  {
   "cell_type": "code",
   "execution_count": 12,
   "metadata": {},
   "outputs": [
    {
     "name": "stdout",
     "output_type": "stream",
     "text": [
      "Epoch 1/30\n",
      "2/2 [==============================] - 3s 2s/step - loss: 54.6711 - xyz_loss: 2.3707 - wpqr_loss: 0.9089 - wpqr_orientation_angle: 94.9152\n",
      "18/18 [==============================] - 24s 1s/step - loss: 20.2082 - xyz_loss: 2.1371 - wpqr_loss: 0.2189 - wpqr_orientation_angle: nan - val_loss: 54.6711 - val_xyz_loss: 2.3707 - val_wpqr_loss: 0.9089 - val_wpqr_orientation_angle: 94.9152\n",
      "Epoch 2/30\n",
      "2/2 [==============================] - 3s 1s/step - loss: 54.5320 - xyz_loss: 2.3215 - wpqr_loss: 0.9167 - wpqr_orientation_angle: 95.8678\n",
      "18/18 [==============================] - 23s 1s/step - loss: 21.1489 - xyz_loss: 2.1354 - wpqr_loss: 0.2477 - wpqr_orientation_angle: 26.7854 - val_loss: 54.5320 - val_xyz_loss: 2.3215 - val_wpqr_loss: 0.9167 - val_wpqr_orientation_angle: 95.8678\n",
      "Epoch 3/30\n",
      "2/2 [==============================] - 3s 2s/step - loss: 54.0801 - xyz_loss: 2.3469 - wpqr_loss: 0.9161 - wpqr_orientation_angle: 95.8036\n",
      "18/18 [==============================] - 24s 1s/step - loss: 20.9170 - xyz_loss: 2.1369 - wpqr_loss: 0.2524 - wpqr_orientation_angle: 27.5161 - val_loss: 54.0801 - val_xyz_loss: 2.3469 - val_wpqr_loss: 0.9161 - val_wpqr_orientation_angle: 95.8036\n",
      "Epoch 4/30\n",
      "2/2 [==============================] - 4s 2s/step - loss: 52.3743 - xyz_loss: 2.3426 - wpqr_loss: 0.8904 - wpqr_orientation_angle: 92.7059\n",
      "18/18 [==============================] - 24s 1s/step - loss: 18.8879 - xyz_loss: 2.1354 - wpqr_loss: 0.2205 - wpqr_orientation_angle: 23.8939 - val_loss: 52.3743 - val_xyz_loss: 2.3426 - val_wpqr_loss: 0.8904 - val_wpqr_orientation_angle: 92.7059\n",
      "Epoch 5/30\n",
      "2/2 [==============================] - 3s 2s/step - loss: 52.9800 - xyz_loss: 2.3258 - wpqr_loss: 0.9106 - wpqr_orientation_angle: 95.2278\n",
      "18/18 [==============================] - 23s 1s/step - loss: 18.1955 - xyz_loss: 2.1343 - wpqr_loss: 0.2147 - wpqr_orientation_angle: 22.8982 - val_loss: 52.9800 - val_xyz_loss: 2.3258 - val_wpqr_loss: 0.9106 - val_wpqr_orientation_angle: 95.2278\n",
      "Epoch 6/30\n",
      "2/2 [==============================] - 4s 2s/step - loss: 52.6165 - xyz_loss: 2.3426 - wpqr_loss: 0.9102 - wpqr_orientation_angle: 95.1768\n",
      "18/18 [==============================] - 24s 1s/step - loss: 16.6390 - xyz_loss: 2.1336 - wpqr_loss: 0.1910 - wpqr_orientation_angle: 20.1737 - val_loss: 52.6165 - val_xyz_loss: 2.3426 - val_wpqr_loss: 0.9102 - val_wpqr_orientation_angle: 95.1768\n",
      "Epoch 7/30\n",
      "2/2 [==============================] - 3s 2s/step - loss: 51.1475 - xyz_loss: 2.3311 - wpqr_loss: 0.8877 - wpqr_orientation_angle: 92.4931\n",
      "18/18 [==============================] - 24s 1s/step - loss: 16.4163 - xyz_loss: 2.1347 - wpqr_loss: 0.1935 - wpqr_orientation_angle: 20.2767 - val_loss: 51.1475 - val_xyz_loss: 2.3311 - val_wpqr_loss: 0.8877 - val_wpqr_orientation_angle: 92.4931\n",
      "Epoch 8/30\n",
      "2/2 [==============================] - 4s 2s/step - loss: 51.6183 - xyz_loss: 2.2959 - wpqr_loss: 0.9040 - wpqr_orientation_angle: 95.3987\n",
      "18/18 [==============================] - 24s 1s/step - loss: 17.0875 - xyz_loss: 2.1344 - wpqr_loss: 0.2134 - wpqr_orientation_angle: 23.0054 - val_loss: 51.6183 - val_xyz_loss: 2.2959 - val_wpqr_loss: 0.9040 - val_wpqr_orientation_angle: 95.3987\n",
      "Epoch 9/30\n",
      "2/2 [==============================] - 3s 2s/step - loss: 51.3513 - xyz_loss: 2.3026 - wpqr_loss: 0.9043 - wpqr_orientation_angle: 94.1094\n",
      "18/18 [==============================] - 24s 1s/step - loss: 15.3513 - xyz_loss: 2.1341 - wpqr_loss: 0.1847 - wpqr_orientation_angle: 19.6478 - val_loss: 51.3513 - val_xyz_loss: 2.3026 - val_wpqr_loss: 0.9043 - val_wpqr_orientation_angle: 94.1094\n",
      "Epoch 10/30\n",
      "2/2 [==============================] - 3s 2s/step - loss: 48.9550 - xyz_loss: 2.3031 - wpqr_loss: 0.8617 - wpqr_orientation_angle: 90.2354\n",
      "18/18 [==============================] - 24s 1s/step - loss: 15.5458 - xyz_loss: 2.1347 - wpqr_loss: 0.1941 - wpqr_orientation_angle: 21.1606 - val_loss: 48.9550 - val_xyz_loss: 2.3031 - val_wpqr_loss: 0.8617 - val_wpqr_orientation_angle: 90.2354\n",
      "Epoch 11/30\n",
      "2/2 [==============================] - 3s 2s/step - loss: 50.1500 - xyz_loss: 2.3286 - wpqr_loss: 0.8901 - wpqr_orientation_angle: 93.2434\n",
      "18/18 [==============================] - 24s 1s/step - loss: 14.9282 - xyz_loss: 2.1328 - wpqr_loss: 0.1870 - wpqr_orientation_angle: 20.0389 - val_loss: 50.1500 - val_xyz_loss: 2.3286 - val_wpqr_loss: 0.8901 - val_wpqr_orientation_angle: 93.2434\n",
      "Epoch 12/30\n",
      "2/2 [==============================] - 3s 2s/step - loss: 50.1779 - xyz_loss: 2.2768 - wpqr_loss: 0.8963 - wpqr_orientation_angle: 93.7958\n",
      "18/18 [==============================] - 24s 1s/step - loss: 14.7865 - xyz_loss: 2.1323 - wpqr_loss: 0.1890 - wpqr_orientation_angle: nan - val_loss: 50.1779 - val_xyz_loss: 2.2768 - val_wpqr_loss: 0.8963 - val_wpqr_orientation_angle: 93.7958\n",
      "Epoch 13/30\n",
      "2/2 [==============================] - 3s 2s/step - loss: 50.4361 - xyz_loss: 2.3083 - wpqr_loss: 0.9051 - wpqr_orientation_angle: 94.5518\n",
      "18/18 [==============================] - 24s 1s/step - loss: 14.4678 - xyz_loss: 2.1325 - wpqr_loss: 0.1870 - wpqr_orientation_angle: 20.5062 - val_loss: 50.4361 - val_xyz_loss: 2.3083 - val_wpqr_loss: 0.9051 - val_wpqr_orientation_angle: 94.5518\n",
      "Epoch 14/30\n",
      "2/2 [==============================] - 4s 2s/step - loss: 51.0278 - xyz_loss: 2.3420 - wpqr_loss: 0.9203 - wpqr_orientation_angle: 96.3095\n",
      "18/18 [==============================] - 24s 1s/step - loss: 14.5070 - xyz_loss: 2.1324 - wpqr_loss: 0.1920 - wpqr_orientation_angle: 20.7752 - val_loss: 51.0278 - val_xyz_loss: 2.3420 - val_wpqr_loss: 0.9203 - val_wpqr_orientation_angle: 96.3095\n",
      "Epoch 15/30\n",
      "2/2 [==============================] - 3s 2s/step - loss: 50.8637 - xyz_loss: 2.2991 - wpqr_loss: 0.9216 - wpqr_orientation_angle: 96.4470\n",
      "18/18 [==============================] - 23s 1s/step - loss: 14.3432 - xyz_loss: 2.1329 - wpqr_loss: 0.1926 - wpqr_orientation_angle: 20.6834 - val_loss: 50.8637 - val_xyz_loss: 2.2991 - val_wpqr_loss: 0.9216 - val_wpqr_orientation_angle: 96.4470\n",
      "Epoch 16/30\n",
      "2/2 [==============================] - 3s 2s/step - loss: 50.6528 - xyz_loss: 2.2731 - wpqr_loss: 0.9213 - wpqr_orientation_angle: 96.4238\n",
      "18/18 [==============================] - 24s 1s/step - loss: 13.8969 - xyz_loss: 2.1313 - wpqr_loss: 0.1872 - wpqr_orientation_angle: 20.0025 - val_loss: 50.6528 - val_xyz_loss: 2.2731 - val_wpqr_loss: 0.9213 - val_wpqr_orientation_angle: 96.4238\n",
      "Epoch 17/30\n",
      "2/2 [==============================] - 3s 2s/step - loss: 50.0440 - xyz_loss: 2.2387 - wpqr_loss: 0.9130 - wpqr_orientation_angle: 95.6039\n",
      "18/18 [==============================] - 24s 1s/step - loss: 16.4188 - xyz_loss: 2.1319 - wpqr_loss: 0.2410 - wpqr_orientation_angle: 25.8080 - val_loss: 50.0440 - val_xyz_loss: 2.2387 - val_wpqr_loss: 0.9130 - val_wpqr_orientation_angle: 95.6039\n",
      "Epoch 18/30\n",
      "2/2 [==============================] - 3s 2s/step - loss: 50.6135 - xyz_loss: 2.2734 - wpqr_loss: 0.9267 - wpqr_orientation_angle: 97.1760\n",
      "18/18 [==============================] - 24s 1s/step - loss: 14.5243 - xyz_loss: 2.1338 - wpqr_loss: 0.2062 - wpqr_orientation_angle: 22.7984 - val_loss: 50.6135 - val_xyz_loss: 2.2734 - val_wpqr_loss: 0.9267 - val_wpqr_orientation_angle: 97.1760\n",
      "Epoch 19/30\n",
      "2/2 [==============================] - 3s 2s/step - loss: 49.1597 - xyz_loss: 2.2463 - wpqr_loss: 0.9009 - wpqr_orientation_angle: 93.9152\n",
      "18/18 [==============================] - 23s 1s/step - loss: 13.1520 - xyz_loss: 2.1330 - wpqr_loss: 0.1816 - wpqr_orientation_angle: nan - val_loss: 49.1597 - val_xyz_loss: 2.2463 - val_wpqr_loss: 0.9009 - val_wpqr_orientation_angle: 93.9152\n",
      "Epoch 20/30\n",
      "2/2 [==============================] - 3s 2s/step - loss: 49.4069 - xyz_loss: 2.2394 - wpqr_loss: 0.9086 - wpqr_orientation_angle: 95.4806\n",
      "18/18 [==============================] - 24s 1s/step - loss: 13.1984 - xyz_loss: 2.1331 - wpqr_loss: 0.1852 - wpqr_orientation_angle: 19.4230 - val_loss: 49.4069 - val_xyz_loss: 2.2394 - val_wpqr_loss: 0.9086 - val_wpqr_orientation_angle: 95.4806\n",
      "Epoch 21/30\n",
      "2/2 [==============================] - 3s 2s/step - loss: 48.7595 - xyz_loss: 2.2223 - wpqr_loss: 0.8984 - wpqr_orientation_angle: 94.1936\n",
      "18/18 [==============================] - 24s 1s/step - loss: 12.6349 - xyz_loss: 2.1337 - wpqr_loss: 0.1764 - wpqr_orientation_angle: 19.8122 - val_loss: 48.7595 - val_xyz_loss: 2.2223 - val_wpqr_loss: 0.8984 - val_wpqr_orientation_angle: 94.1936\n",
      "Epoch 22/30\n",
      "2/2 [==============================] - 3s 2s/step - loss: 49.9898 - xyz_loss: 2.2308 - wpqr_loss: 0.9250 - wpqr_orientation_angle: 96.8672\n",
      "18/18 [==============================] - 24s 1s/step - loss: 12.9131 - xyz_loss: 2.1309 - wpqr_loss: 0.1843 - wpqr_orientation_angle: 20.3957 - val_loss: 49.9898 - val_xyz_loss: 2.2308 - val_wpqr_loss: 0.9250 - val_wpqr_orientation_angle: 96.8672\n",
      "Epoch 23/30\n",
      "2/2 [==============================] - 3s 2s/step - loss: 48.0842 - xyz_loss: 2.2329 - wpqr_loss: 0.8889 - wpqr_orientation_angle: 92.6325\n",
      "18/18 [==============================] - 24s 1s/step - loss: 12.4921 - xyz_loss: 2.1319 - wpqr_loss: 0.1780 - wpqr_orientation_angle: 19.7103 - val_loss: 48.0842 - val_xyz_loss: 2.2329 - val_wpqr_loss: 0.8889 - val_wpqr_orientation_angle: 92.6325\n",
      "Epoch 24/30\n",
      "2/2 [==============================] - 3s 2s/step - loss: 48.9121 - xyz_loss: 2.2434 - wpqr_loss: 0.9072 - wpqr_orientation_angle: 94.7441\n",
      "18/18 [==============================] - 24s 1s/step - loss: 12.3170 - xyz_loss: 2.1321 - wpqr_loss: 0.1765 - wpqr_orientation_angle: 18.5761 - val_loss: 48.9121 - val_xyz_loss: 2.2434 - val_wpqr_loss: 0.9072 - val_wpqr_orientation_angle: 94.7441\n",
      "Epoch 25/30\n",
      "2/2 [==============================] - 3s 2s/step - loss: 47.8507 - xyz_loss: 2.2195 - wpqr_loss: 0.8882 - wpqr_orientation_angle: 92.3892\n",
      "18/18 [==============================] - 24s 1s/step - loss: 11.9275 - xyz_loss: 2.1320 - wpqr_loss: 0.1706 - wpqr_orientation_angle: 19.3366 - val_loss: 47.8507 - val_xyz_loss: 2.2195 - val_wpqr_loss: 0.8882 - val_wpqr_orientation_angle: 92.3892\n",
      "Epoch 26/30\n",
      "2/2 [==============================] - 3s 2s/step - loss: 50.0561 - xyz_loss: 2.2211 - wpqr_loss: 0.9337 - wpqr_orientation_angle: 99.8695\n",
      "18/18 [==============================] - 23s 1s/step - loss: 39.2418 - xyz_loss: 2.1348 - wpqr_loss: 0.7184 - wpqr_orientation_angle: 78.5255 - val_loss: 50.0561 - val_xyz_loss: 2.2211 - val_wpqr_loss: 0.9337 - val_wpqr_orientation_angle: 99.8695\n",
      "Epoch 27/30\n",
      "2/2 [==============================] - 3s 2s/step - loss: 49.3418 - xyz_loss: 2.2160 - wpqr_loss: 0.9210 - wpqr_orientation_angle: 96.3790\n",
      "18/18 [==============================] - 24s 1s/step - loss: 30.8336 - xyz_loss: 2.1351 - wpqr_loss: 0.5517 - wpqr_orientation_angle: 62.5351 - val_loss: 49.3418 - val_xyz_loss: 2.2160 - val_wpqr_loss: 0.9210 - val_wpqr_orientation_angle: 96.3790\n",
      "Epoch 28/30\n",
      "2/2 [==============================] - 3s 2s/step - loss: 49.2657 - xyz_loss: 2.2079 - wpqr_loss: 0.9210 - wpqr_orientation_angle: 96.3819\n",
      "18/18 [==============================] - 24s 1s/step - loss: 23.2852 - xyz_loss: 2.1340 - wpqr_loss: 0.4022 - wpqr_orientation_angle: 45.8747 - val_loss: 49.2657 - val_xyz_loss: 2.2079 - val_wpqr_loss: 0.9210 - val_wpqr_orientation_angle: 96.3819\n",
      "Epoch 29/30\n",
      "2/2 [==============================] - 3s 2s/step - loss: 48.7716 - xyz_loss: 2.2108 - wpqr_loss: 0.9124 - wpqr_orientation_angle: 95.3241\n",
      "18/18 [==============================] - 23s 1s/step - loss: 21.6139 - xyz_loss: 2.1312 - wpqr_loss: 0.3702 - wpqr_orientation_angle: 42.3629 - val_loss: 48.7716 - val_xyz_loss: 2.2108 - val_wpqr_loss: 0.9124 - val_wpqr_orientation_angle: 95.3241\n",
      "Epoch 30/30\n",
      "2/2 [==============================] - 3s 2s/step - loss: 48.8936 - xyz_loss: 2.2130 - wpqr_loss: 0.9161 - wpqr_orientation_angle: 95.7664\n",
      "18/18 [==============================] - 24s 1s/step - loss: 19.3466 - xyz_loss: 2.1303 - wpqr_loss: 0.3261 - wpqr_orientation_angle: 37.8827 - val_loss: 48.8936 - val_xyz_loss: 2.2130 - val_wpqr_loss: 0.9161 - val_wpqr_orientation_angle: 95.7664\n"
     ]
    },
    {
     "data": {
      "text/plain": [
       "<tensorflow.python.keras.callbacks.History at 0x1baddbb4668>"
      ]
     },
     "execution_count": 12,
     "metadata": {},
     "output_type": "execute_result"
    }
   ],
   "source": [
    "model.fit_generator(traingen, epochs=30, validation_data=testgen, )"
   ]
  },
  {
   "cell_type": "code",
   "execution_count": 11,
   "metadata": {},
   "outputs": [],
   "source": [
    "model.save('model.h5py')"
   ]
  },
  {
   "cell_type": "code",
   "execution_count": null,
   "metadata": {},
   "outputs": [],
   "source": [
    "# from model_builder import RangeNorm\n",
    "# from losses import euclidean, euclidean_normalized, orientation_angle\n",
    "# model = tf.keras.models.load_model('model.h5py',\n",
    "#     custom_objects={'RangeNorm': RangeNorm, 'euclidean': euclidean,\n",
    "#                     'euclidean_normalized': euclidean_normalized,\n",
    "#                     'orientation_angle': orientation_angle})"
   ]
  },
  {
   "cell_type": "code",
   "execution_count": null,
   "metadata": {},
   "outputs": [],
   "source": []
  }
 ],
 "metadata": {
  "kernelspec": {
   "display_name": "Python 3",
   "language": "python",
   "name": "python3"
  },
  "language_info": {
   "codemirror_mode": {
    "name": "ipython",
    "version": 3
   },
   "file_extension": ".py",
   "mimetype": "text/x-python",
   "name": "python",
   "nbconvert_exporter": "python",
   "pygments_lexer": "ipython3",
   "version": "3.7.1"
  }
 },
 "nbformat": 4,
 "nbformat_minor": 2
}
