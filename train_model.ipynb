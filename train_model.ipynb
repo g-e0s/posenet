{
 "cells": [
  {
   "cell_type": "code",
   "execution_count": null,
   "metadata": {
    "colab": {},
    "colab_type": "code",
    "id": "d8lhl6-gr0GO"
   },
   "outputs": [],
   "source": [
    "import numpy as np\n",
    "import pandas as pd\n",
    "from sklearn.model_selection import train_test_split\n",
    "import tensorflow as tf\n",
    "from keras_preprocessing.image import ImageDataGenerator\n",
    "\n",
    "from data_generator import RandomCropGenerator\n",
    "from model_builder import ModelBuilder"
   ]
  },
  {
   "cell_type": "code",
   "execution_count": null,
   "metadata": {
    "colab": {},
    "colab_type": "code",
    "id": "bW6mvb6yQ_bA"
   },
   "outputs": [],
   "source": [
    "COLUMNS = ['ImageFile', 'POS_X', 'POS_Y', 'POS_Z', 'Q_W', 'Q_X', 'Q_Y', 'Q_Z']\n",
    "IMG_COLUMN = 'ImageFile'\n",
    "POSITION_COLUMNS = ['POS_X', 'POS_Y', 'POS_Z']\n",
    "ORIENTATION_COLUMNS = ['Q_W', 'Q_X', 'Q_Y', 'Q_Z']\n",
    "\n",
    "DIRECTORY = 'dataset'\n",
    "DATA_PATH = 'info.csv'\n",
    "COLUMN_SEP = ','\n",
    "\n",
    "IMG_SIZE = (256, 256)\n",
    "IMG_CROP_SIZE = (224, 224)\n",
    "POSE_REGRESSOR_SIZE = 2048\n",
    "BATCH_SIZE = 50\n",
    "SHUFFLE = True\n",
    "RANDOM_SEED = 4444"
   ]
  },
  {
   "cell_type": "markdown",
   "metadata": {
    "colab_type": "text",
    "id": "GcbvmL6CRbbG"
   },
   "source": [
    "### Read and split data"
   ]
  },
  {
   "cell_type": "code",
   "execution_count": 7,
   "metadata": {
    "colab": {
     "base_uri": "https://localhost:8080/",
     "height": 212
    },
    "colab_type": "code",
    "id": "WIjmAmUSI6aV",
    "outputId": "a6a4c867-9b54-41a5-e680-61dd90bf7831"
   },
   "outputs": [
    {
     "name": "stdout",
     "output_type": "stream",
     "text": [
      "train size: 900, test_size: 100\n"
     ]
    },
    {
     "data": {
      "text/html": [
       "<div>\n",
       "<style scoped>\n",
       "    .dataframe tbody tr th:only-of-type {\n",
       "        vertical-align: middle;\n",
       "    }\n",
       "\n",
       "    .dataframe tbody tr th {\n",
       "        vertical-align: top;\n",
       "    }\n",
       "\n",
       "    .dataframe thead th {\n",
       "        text-align: right;\n",
       "    }\n",
       "</style>\n",
       "<table border=\"1\" class=\"dataframe\">\n",
       "  <thead>\n",
       "    <tr style=\"text-align: right;\">\n",
       "      <th></th>\n",
       "      <th>POS_X</th>\n",
       "      <th>POS_Y</th>\n",
       "      <th>POS_Z</th>\n",
       "      <th>Q_W</th>\n",
       "      <th>Q_X</th>\n",
       "      <th>Q_Y</th>\n",
       "      <th>Q_Z</th>\n",
       "      <th>ImageFile</th>\n",
       "    </tr>\n",
       "  </thead>\n",
       "  <tbody>\n",
       "    <tr>\n",
       "      <th>435</th>\n",
       "      <td>1.404367</td>\n",
       "      <td>0.621548</td>\n",
       "      <td>-0.038781</td>\n",
       "      <td>0.926828</td>\n",
       "      <td>0.0</td>\n",
       "      <td>-0.0</td>\n",
       "      <td>-0.375486</td>\n",
       "      <td>img_0_0_1542103551932911900.png</td>\n",
       "    </tr>\n",
       "    <tr>\n",
       "      <th>26</th>\n",
       "      <td>-2.294151</td>\n",
       "      <td>-2.619398</td>\n",
       "      <td>-0.038781</td>\n",
       "      <td>0.992391</td>\n",
       "      <td>0.0</td>\n",
       "      <td>-0.0</td>\n",
       "      <td>-0.123129</td>\n",
       "      <td>img_0_0_1542099351874224500.png</td>\n",
       "    </tr>\n",
       "    <tr>\n",
       "      <th>456</th>\n",
       "      <td>1.038382</td>\n",
       "      <td>0.173967</td>\n",
       "      <td>-0.038781</td>\n",
       "      <td>0.800721</td>\n",
       "      <td>-0.0</td>\n",
       "      <td>0.0</td>\n",
       "      <td>0.599037</td>\n",
       "      <td>img_0_0_1542103707070959200.png</td>\n",
       "    </tr>\n",
       "    <tr>\n",
       "      <th>125</th>\n",
       "      <td>0.748456</td>\n",
       "      <td>-0.351675</td>\n",
       "      <td>-0.038781</td>\n",
       "      <td>0.225952</td>\n",
       "      <td>-0.0</td>\n",
       "      <td>0.0</td>\n",
       "      <td>0.974138</td>\n",
       "      <td>img_0_0_1542100318797415700.png</td>\n",
       "    </tr>\n",
       "    <tr>\n",
       "      <th>690</th>\n",
       "      <td>1.482945</td>\n",
       "      <td>-1.242870</td>\n",
       "      <td>-0.038781</td>\n",
       "      <td>1.000000</td>\n",
       "      <td>0.0</td>\n",
       "      <td>-0.0</td>\n",
       "      <td>-0.000002</td>\n",
       "      <td>img_0_0_1542105894912803500.png</td>\n",
       "    </tr>\n",
       "  </tbody>\n",
       "</table>\n",
       "</div>"
      ],
      "text/plain": [
       "        POS_X     POS_Y  ...       Q_Z                        ImageFile\n",
       "435  1.404367  0.621548  ... -0.375486  img_0_0_1542103551932911900.png\n",
       "26  -2.294151 -2.619398  ... -0.123129  img_0_0_1542099351874224500.png\n",
       "456  1.038382  0.173967  ...  0.599037  img_0_0_1542103707070959200.png\n",
       "125  0.748456 -0.351675  ...  0.974138  img_0_0_1542100318797415700.png\n",
       "690  1.482945 -1.242870  ... -0.000002  img_0_0_1542105894912803500.png\n",
       "\n",
       "[5 rows x 8 columns]"
      ]
     },
     "execution_count": 7,
     "metadata": {
      "tags": []
     },
     "output_type": "execute_result"
    }
   ],
   "source": [
    "np.random.seed(RANDOM_SEED)\n",
    "data = pd.read_csv(DATA_PATH, sep=COLUMN_SEP, usecols=COLUMNS)\n",
    "train_data, test_data = train_test_split(data, test_size=0.1)\n",
    "print(f'train size: {train_data.shape[0]}, test_size: {test_data.shape[0]}')\n",
    "train_data.head()"
   ]
  },
  {
   "cell_type": "code",
   "execution_count": 8,
   "metadata": {
    "colab": {
     "base_uri": "https://localhost:8080/",
     "height": 284
    },
    "colab_type": "code",
    "id": "2MvKELbtI6ab",
    "outputId": "67fdbcae-a7f4-4e0e-844b-48508a1135d6"
   },
   "outputs": [
    {
     "data": {
      "text/html": [
       "<div>\n",
       "<style scoped>\n",
       "    .dataframe tbody tr th:only-of-type {\n",
       "        vertical-align: middle;\n",
       "    }\n",
       "\n",
       "    .dataframe tbody tr th {\n",
       "        vertical-align: top;\n",
       "    }\n",
       "\n",
       "    .dataframe thead th {\n",
       "        text-align: right;\n",
       "    }\n",
       "</style>\n",
       "<table border=\"1\" class=\"dataframe\">\n",
       "  <thead>\n",
       "    <tr style=\"text-align: right;\">\n",
       "      <th></th>\n",
       "      <th>POS_X</th>\n",
       "      <th>POS_Y</th>\n",
       "      <th>POS_Z</th>\n",
       "      <th>Q_W</th>\n",
       "      <th>Q_X</th>\n",
       "      <th>Q_Y</th>\n",
       "      <th>Q_Z</th>\n",
       "    </tr>\n",
       "  </thead>\n",
       "  <tbody>\n",
       "    <tr>\n",
       "      <th>count</th>\n",
       "      <td>900.000000</td>\n",
       "      <td>900.000000</td>\n",
       "      <td>9.000000e+02</td>\n",
       "      <td>900.000000</td>\n",
       "      <td>900.0</td>\n",
       "      <td>900.0</td>\n",
       "      <td>900.000000</td>\n",
       "    </tr>\n",
       "    <tr>\n",
       "      <th>mean</th>\n",
       "      <td>0.040090</td>\n",
       "      <td>-1.369665</td>\n",
       "      <td>-3.878100e-02</td>\n",
       "      <td>0.709123</td>\n",
       "      <td>0.0</td>\n",
       "      <td>0.0</td>\n",
       "      <td>-0.006197</td>\n",
       "    </tr>\n",
       "    <tr>\n",
       "      <th>std</th>\n",
       "      <td>1.483758</td>\n",
       "      <td>1.256425</td>\n",
       "      <td>1.596833e-16</td>\n",
       "      <td>0.317153</td>\n",
       "      <td>0.0</td>\n",
       "      <td>0.0</td>\n",
       "      <td>0.630137</td>\n",
       "    </tr>\n",
       "    <tr>\n",
       "      <th>min</th>\n",
       "      <td>-3.077480</td>\n",
       "      <td>-3.778143</td>\n",
       "      <td>-3.878100e-02</td>\n",
       "      <td>0.000018</td>\n",
       "      <td>0.0</td>\n",
       "      <td>-0.0</td>\n",
       "      <td>-1.000000</td>\n",
       "    </tr>\n",
       "    <tr>\n",
       "      <th>25%</th>\n",
       "      <td>-1.285080</td>\n",
       "      <td>-2.529762</td>\n",
       "      <td>-3.878100e-02</td>\n",
       "      <td>0.474060</td>\n",
       "      <td>0.0</td>\n",
       "      <td>0.0</td>\n",
       "      <td>-0.535099</td>\n",
       "    </tr>\n",
       "    <tr>\n",
       "      <th>50%</th>\n",
       "      <td>0.154681</td>\n",
       "      <td>-1.205611</td>\n",
       "      <td>-3.878100e-02</td>\n",
       "      <td>0.839133</td>\n",
       "      <td>0.0</td>\n",
       "      <td>-0.0</td>\n",
       "      <td>0.002253</td>\n",
       "    </tr>\n",
       "    <tr>\n",
       "      <th>75%</th>\n",
       "      <td>1.440197</td>\n",
       "      <td>-0.358070</td>\n",
       "      <td>-3.878100e-02</td>\n",
       "      <td>0.985918</td>\n",
       "      <td>0.0</td>\n",
       "      <td>0.0</td>\n",
       "      <td>0.556028</td>\n",
       "    </tr>\n",
       "    <tr>\n",
       "      <th>max</th>\n",
       "      <td>2.812647</td>\n",
       "      <td>1.622524</td>\n",
       "      <td>-3.878100e-02</td>\n",
       "      <td>1.000000</td>\n",
       "      <td>0.0</td>\n",
       "      <td>-0.0</td>\n",
       "      <td>1.000000</td>\n",
       "    </tr>\n",
       "  </tbody>\n",
       "</table>\n",
       "</div>"
      ],
      "text/plain": [
       "            POS_X       POS_Y         POS_Z  ...    Q_X    Q_Y         Q_Z\n",
       "count  900.000000  900.000000  9.000000e+02  ...  900.0  900.0  900.000000\n",
       "mean     0.040090   -1.369665 -3.878100e-02  ...    0.0    0.0   -0.006197\n",
       "std      1.483758    1.256425  1.596833e-16  ...    0.0    0.0    0.630137\n",
       "min     -3.077480   -3.778143 -3.878100e-02  ...    0.0   -0.0   -1.000000\n",
       "25%     -1.285080   -2.529762 -3.878100e-02  ...    0.0    0.0   -0.535099\n",
       "50%      0.154681   -1.205611 -3.878100e-02  ...    0.0   -0.0    0.002253\n",
       "75%      1.440197   -0.358070 -3.878100e-02  ...    0.0    0.0    0.556028\n",
       "max      2.812647    1.622524 -3.878100e-02  ...    0.0   -0.0    1.000000\n",
       "\n",
       "[8 rows x 7 columns]"
      ]
     },
     "execution_count": 8,
     "metadata": {
      "tags": []
     },
     "output_type": "execute_result"
    }
   ],
   "source": [
    "train_data.describe()"
   ]
  },
  {
   "cell_type": "markdown",
   "metadata": {
    "colab_type": "text",
    "id": "B4sPA2kNSFYS"
   },
   "source": [
    "### Instantiate data generators"
   ]
  },
  {
   "cell_type": "code",
   "execution_count": 9,
   "metadata": {
    "colab": {
     "base_uri": "https://localhost:8080/",
     "height": 50
    },
    "colab_type": "code",
    "id": "DfB8fBqHSEWP",
    "outputId": "5f043276-a274-40e5-e699-1b793597b973"
   },
   "outputs": [
    {
     "name": "stdout",
     "output_type": "stream",
     "text": [
      "Found 900 validated image filenames.\n",
      "Found 100 validated image filenames.\n"
     ]
    }
   ],
   "source": [
    "imagegen = ImageDataGenerator()\n",
    "traingen = RandomCropGenerator(\n",
    "    directory=DIRECTORY, dataframe=train_data, image_data_generator=imagegen,\n",
    "    x_col=IMG_COLUMN, y_col=POSITION_COLUMNS+ORIENTATION_COLUMNS,\n",
    "    target_size=IMG_SIZE, random_crop_shape=IMG_CROP_SIZE,\n",
    "    class_mode='raw', batch_size=BATCH_SIZE, shuffle=SHUFFLE)\n",
    "\n",
    "testgen = RandomCropGenerator(\n",
    "    directory=DIRECTORY, dataframe=test_data, image_data_generator=imagegen,\n",
    "    x_col=IMG_COLUMN, y_col=POSITION_COLUMNS+ORIENTATION_COLUMNS,\n",
    "    target_size=IMG_SIZE, random_crop_shape=IMG_CROP_SIZE,\n",
    "    class_mode='raw', batch_size=BATCH_SIZE, shuffle=SHUFFLE)"
   ]
  },
  {
   "cell_type": "markdown",
   "metadata": {
    "colab_type": "text",
    "id": "RdoswVHHR6sV"
   },
   "source": [
    "### Estimate pose coordinates ranges"
   ]
  },
  {
   "cell_type": "code",
   "execution_count": 10,
   "metadata": {
    "colab": {
     "base_uri": "https://localhost:8080/",
     "height": 50
    },
    "colab_type": "code",
    "id": "SV1Ea0KSI6ae",
    "outputId": "ef762cd2-f06e-4838-deb7-098ea2b2dccb"
   },
   "outputs": [
    {
     "data": {
      "text/plain": [
       "array([5.890127, 5.400667, 0.      , 0.999982, 0.      , 0.      ,\n",
       "       2.      ])"
      ]
     },
     "execution_count": 10,
     "metadata": {
      "tags": []
     },
     "output_type": "execute_result"
    }
   ],
   "source": [
    "position_max = train_data[POSITION_COLUMNS+ORIENTATION_COLUMNS].values.max(axis=0)\n",
    "position_min = train_data[POSITION_COLUMNS+ORIENTATION_COLUMNS].values.min(axis=0)\n",
    "position_ranges = position_max - position_min\n",
    "position_ranges"
   ]
  },
  {
   "cell_type": "markdown",
   "metadata": {
    "colab_type": "text",
    "id": "3qnRn70ISQLP"
   },
   "source": [
    "### Build a model"
   ]
  },
  {
   "cell_type": "code",
   "execution_count": null,
   "metadata": {
    "colab": {},
    "colab_type": "code",
    "id": "SQ0w7fVKI6ak"
   },
   "outputs": [],
   "source": [
    "model_builder = ModelBuilder()"
   ]
  },
  {
   "cell_type": "code",
   "execution_count": null,
   "metadata": {
    "colab": {},
    "colab_type": "code",
    "id": "tA7_TTnvI6am"
   },
   "outputs": [],
   "source": [
    "model = model_builder.build_model(image_size=IMG_CROP_SIZE, pose_regressor_size=POSE_REGRESSOR_SIZE,\n",
    "                                  position_ranges=position_ranges)"
   ]
  },
  {
   "cell_type": "code",
   "execution_count": 16,
   "metadata": {
    "colab": {
     "base_uri": "https://localhost:8080/",
     "height": 1000
    },
    "colab_type": "code",
    "id": "9gT6oCxuI6ap",
    "outputId": "f307c487-44e3-42aa-916f-2240187c17b3"
   },
   "outputs": [
    {
     "name": "stdout",
     "output_type": "stream",
     "text": [
      "Epoch 1/40\n",
      "18/18 [==============================] - 37s 2s/step - loss: 16.5511 - xyz_loss: 2.1392 - wpqr_loss: 0.6871 - wpqr_orientation_angle: 72.5042 - val_loss: 21.6138 - val_xyz_loss: 5.9530 - val_wpqr_loss: 0.7508 - val_wpqr_orientation_angle: 81.6019\n",
      "Epoch 2/40\n",
      "18/18 [==============================] - 21s 1s/step - loss: 7.9094 - xyz_loss: 1.7026 - wpqr_loss: 0.2792 - wpqr_orientation_angle: 30.0493 - val_loss: 14.0377 - val_xyz_loss: 2.6308 - val_wpqr_loss: 0.5404 - val_wpqr_orientation_angle: 59.8488\n",
      "Epoch 3/40\n",
      "18/18 [==============================] - 21s 1s/step - loss: 5.8842 - xyz_loss: 1.4021 - wpqr_loss: 0.1951 - wpqr_orientation_angle: 21.0208 - val_loss: 9.6560 - val_xyz_loss: 2.2514 - val_wpqr_loss: 0.3424 - val_wpqr_orientation_angle: 38.3417\n",
      "Epoch 4/40\n",
      "18/18 [==============================] - 21s 1s/step - loss: 5.2722 - xyz_loss: 1.2291 - wpqr_loss: 0.1752 - wpqr_orientation_angle: 18.3552 - val_loss: 11.2452 - val_xyz_loss: 1.4321 - val_wpqr_loss: 0.4647 - val_wpqr_orientation_angle: 47.8505\n",
      "Epoch 5/40\n",
      "18/18 [==============================] - 21s 1s/step - loss: 4.7513 - xyz_loss: 1.1398 - wpqr_loss: 0.1555 - wpqr_orientation_angle: 15.9959 - val_loss: 5.0233 - val_xyz_loss: 1.4662 - val_wpqr_loss: 0.1537 - val_wpqr_orientation_angle: 15.5948\n",
      "Epoch 6/40\n",
      "18/18 [==============================] - 21s 1s/step - loss: 4.6112 - xyz_loss: 1.0479 - wpqr_loss: 0.1548 - wpqr_orientation_angle: 14.5744 - val_loss: 5.1643 - val_xyz_loss: 1.4498 - val_wpqr_loss: 0.1632 - val_wpqr_orientation_angle: 16.3869\n",
      "Epoch 7/40\n",
      "18/18 [==============================] - 21s 1s/step - loss: 4.1295 - xyz_loss: 1.0001 - wpqr_loss: 0.1346 - wpqr_orientation_angle: 13.0867 - val_loss: 5.6665 - val_xyz_loss: 1.5671 - val_wpqr_loss: 0.1838 - val_wpqr_orientation_angle: 19.2163\n",
      "Epoch 8/40\n",
      "18/18 [==============================] - 21s 1s/step - loss: 3.6363 - xyz_loss: 0.9227 - wpqr_loss: 0.1151 - wpqr_orientation_angle: 11.6561 - val_loss: 6.5534 - val_xyz_loss: 1.4732 - val_wpqr_loss: 0.2341 - val_wpqr_orientation_angle: 23.1682\n",
      "Epoch 9/40\n",
      "18/18 [==============================] - 21s 1s/step - loss: 3.2847 - xyz_loss: 0.8578 - wpqr_loss: 0.1019 - wpqr_orientation_angle: 10.0764 - val_loss: 4.2281 - val_xyz_loss: 1.2484 - val_wpqr_loss: 0.1301 - val_wpqr_orientation_angle: 13.1919\n",
      "Epoch 10/40\n",
      "18/18 [==============================] - 21s 1s/step - loss: 3.3890 - xyz_loss: 0.8651 - wpqr_loss: 0.1078 - wpqr_orientation_angle: 10.8215 - val_loss: 11.2455 - val_xyz_loss: 1.6835 - val_wpqr_loss: 0.4603 - val_wpqr_orientation_angle: 46.5521\n",
      "Epoch 11/40\n",
      "18/18 [==============================] - 21s 1s/step - loss: 3.2540 - xyz_loss: 0.9435 - wpqr_loss: 0.0977 - wpqr_orientation_angle: 9.9464 - val_loss: 6.9100 - val_xyz_loss: 1.2098 - val_wpqr_loss: 0.2673 - val_wpqr_orientation_angle: 29.5166\n",
      "Epoch 12/40\n",
      "18/18 [==============================] - 21s 1s/step - loss: 2.8656 - xyz_loss: 0.7983 - wpqr_loss: 0.0857 - wpqr_orientation_angle: 8.7685 - val_loss: 3.9795 - val_xyz_loss: 0.9437 - val_wpqr_loss: 0.1341 - val_wpqr_orientation_angle: 13.3061\n",
      "Epoch 13/40\n",
      "18/18 [==============================] - 21s 1s/step - loss: 2.5655 - xyz_loss: 0.7645 - wpqr_loss: 0.0724 - wpqr_orientation_angle: 7.8374 - val_loss: 3.1680 - val_xyz_loss: 0.8436 - val_wpqr_loss: 0.0986 - val_wpqr_orientation_angle: 9.1598\n",
      "Epoch 14/40\n",
      "18/18 [==============================] - 21s 1s/step - loss: 2.5182 - xyz_loss: 0.7331 - wpqr_loss: 0.0717 - wpqr_orientation_angle: 7.2387 - val_loss: 2.8122 - val_xyz_loss: 0.7691 - val_wpqr_loss: 0.0847 - val_wpqr_orientation_angle: 7.5025\n",
      "Epoch 15/40\n",
      "18/18 [==============================] - 21s 1s/step - loss: 2.2991 - xyz_loss: 0.6901 - wpqr_loss: 0.0630 - wpqr_orientation_angle: 6.9949 - val_loss: 2.9963 - val_xyz_loss: 0.7202 - val_wpqr_loss: 0.0964 - val_wpqr_orientation_angle: 6.6452\n",
      "Epoch 16/40\n",
      "18/18 [==============================] - 21s 1s/step - loss: 3.1023 - xyz_loss: 0.6970 - wpqr_loss: 0.1029 - wpqr_orientation_angle: 7.4713 - val_loss: 3.1070 - val_xyz_loss: 0.8069 - val_wpqr_loss: 0.0977 - val_wpqr_orientation_angle: 6.8416\n",
      "Epoch 17/40\n",
      "18/18 [==============================] - 21s 1s/step - loss: 3.3436 - xyz_loss: 0.7041 - wpqr_loss: 0.1147 - wpqr_orientation_angle: 6.9744 - val_loss: 2.9240 - val_xyz_loss: 0.7427 - val_wpqr_loss: 0.0919 - val_wpqr_orientation_angle: 6.2010\n",
      "Epoch 18/40\n",
      "18/18 [==============================] - 21s 1s/step - loss: 3.1426 - xyz_loss: 0.6887 - wpqr_loss: 0.1055 - wpqr_orientation_angle: 7.8500 - val_loss: 2.7455 - val_xyz_loss: 0.6384 - val_wpqr_loss: 0.0882 - val_wpqr_orientation_angle: 5.8475\n",
      "Epoch 19/40\n",
      "18/18 [==============================] - 21s 1s/step - loss: 3.1453 - xyz_loss: 0.7029 - wpqr_loss: 0.1050 - wpqr_orientation_angle: 7.1594 - val_loss: 2.6092 - val_xyz_loss: 0.5810 - val_wpqr_loss: 0.0844 - val_wpqr_orientation_angle: 5.3375\n",
      "Epoch 20/40\n",
      "18/18 [==============================] - 21s 1s/step - loss: 3.0155 - xyz_loss: 0.6731 - wpqr_loss: 0.1001 - wpqr_orientation_angle: 7.0831 - val_loss: 2.5219 - val_xyz_loss: 0.6201 - val_wpqr_loss: 0.0782 - val_wpqr_orientation_angle: 4.5336\n",
      "Epoch 21/40\n",
      "18/18 [==============================] - 21s 1s/step - loss: 2.8101 - xyz_loss: 0.6438 - wpqr_loss: 0.0914 - wpqr_orientation_angle: 6.1386 - val_loss: 2.4173 - val_xyz_loss: 0.5730 - val_wpqr_loss: 0.0753 - val_wpqr_orientation_angle: 4.1938\n",
      "Epoch 22/40\n",
      "18/18 [==============================] - 21s 1s/step - loss: 2.7067 - xyz_loss: 0.6736 - wpqr_loss: 0.0848 - wpqr_orientation_angle: 6.1198 - val_loss: 2.4634 - val_xyz_loss: 0.5919 - val_wpqr_loss: 0.0767 - val_wpqr_orientation_angle: 4.3556\n",
      "Epoch 23/40\n",
      "18/18 [==============================] - 21s 1s/step - loss: 2.7333 - xyz_loss: 0.6658 - wpqr_loss: 0.0866 - wpqr_orientation_angle: 6.1852 - val_loss: 2.4283 - val_xyz_loss: 0.5685 - val_wpqr_loss: 0.0762 - val_wpqr_orientation_angle: 4.2800\n",
      "Epoch 24/40\n",
      "18/18 [==============================] - 21s 1s/step - loss: 2.7346 - xyz_loss: 0.6437 - wpqr_loss: 0.0878 - wpqr_orientation_angle: 6.1929 - val_loss: 2.4102 - val_xyz_loss: 0.5753 - val_wpqr_loss: 0.0750 - val_wpqr_orientation_angle: 4.1409\n",
      "Epoch 25/40\n",
      "18/18 [==============================] - 21s 1s/step - loss: 2.7931 - xyz_loss: 0.6393 - wpqr_loss: 0.0910 - wpqr_orientation_angle: 5.8389 - val_loss: 2.3867 - val_xyz_loss: 0.5460 - val_wpqr_loss: 0.0753 - val_wpqr_orientation_angle: 4.1849\n",
      "Epoch 26/40\n",
      "18/18 [==============================] - 21s 1s/step - loss: 2.6740 - xyz_loss: 0.6193 - wpqr_loss: 0.0861 - wpqr_orientation_angle: 6.2495 - val_loss: 2.3544 - val_xyz_loss: 0.5318 - val_wpqr_loss: 0.0745 - val_wpqr_orientation_angle: 4.0918\n",
      "Epoch 27/40\n",
      "18/18 [==============================] - 21s 1s/step - loss: 2.5142 - xyz_loss: 0.6424 - wpqr_loss: 0.0770 - wpqr_orientation_angle: 5.6725 - val_loss: 2.3821 - val_xyz_loss: 0.5445 - val_wpqr_loss: 0.0753 - val_wpqr_orientation_angle: 4.1555\n",
      "Epoch 28/40\n",
      "18/18 [==============================] - 21s 1s/step - loss: 2.4760 - xyz_loss: 0.6356 - wpqr_loss: 0.0755 - wpqr_orientation_angle: 5.7300 - val_loss: 2.3210 - val_xyz_loss: 0.5043 - val_wpqr_loss: 0.0743 - val_wpqr_orientation_angle: 4.0629\n",
      "Epoch 29/40\n",
      "18/18 [==============================] - 21s 1s/step - loss: 2.4007 - xyz_loss: 0.6150 - wpqr_loss: 0.0728 - wpqr_orientation_angle: 5.7092 - val_loss: 2.3576 - val_xyz_loss: 0.5350 - val_wpqr_loss: 0.0746 - val_wpqr_orientation_angle: 4.1329\n",
      "Epoch 30/40\n",
      "18/18 [==============================] - 21s 1s/step - loss: 2.4771 - xyz_loss: 0.6120 - wpqr_loss: 0.0768 - wpqr_orientation_angle: 5.8829 - val_loss: 2.3655 - val_xyz_loss: 0.5304 - val_wpqr_loss: 0.0753 - val_wpqr_orientation_angle: 4.2080\n",
      "Epoch 31/40\n",
      "18/18 [==============================] - 21s 1s/step - loss: 2.3406 - xyz_loss: 0.5853 - wpqr_loss: 0.0713 - wpqr_orientation_angle: 5.7693 - val_loss: 2.3857 - val_xyz_loss: 0.5042 - val_wpqr_loss: 0.0777 - val_wpqr_orientation_angle: 4.4588\n",
      "Epoch 32/40\n",
      "18/18 [==============================] - 21s 1s/step - loss: 2.2804 - xyz_loss: 0.5935 - wpqr_loss: 0.0680 - wpqr_orientation_angle: 5.3485 - val_loss: 2.3127 - val_xyz_loss: 0.5296 - val_wpqr_loss: 0.0728 - val_wpqr_orientation_angle: 3.9099\n",
      "Epoch 33/40\n",
      "18/18 [==============================] - 21s 1s/step - loss: 2.3855 - xyz_loss: 0.6129 - wpqr_loss: 0.0723 - wpqr_orientation_angle: 5.8730 - val_loss: 2.2804 - val_xyz_loss: 0.5359 - val_wpqr_loss: 0.0709 - val_wpqr_orientation_angle: 3.6860\n",
      "Epoch 34/40\n",
      "18/18 [==============================] - 21s 1s/step - loss: 2.2995 - xyz_loss: 0.6304 - wpqr_loss: 0.0672 - wpqr_orientation_angle: 5.7273 - val_loss: 2.2322 - val_xyz_loss: 0.5202 - val_wpqr_loss: 0.0694 - val_wpqr_orientation_angle: 3.4838\n",
      "Epoch 35/40\n",
      "18/18 [==============================] - 21s 1s/step - loss: 2.2657 - xyz_loss: 0.6050 - wpqr_loss: 0.0668 - wpqr_orientation_angle: 5.7078 - val_loss: 2.2972 - val_xyz_loss: 0.4942 - val_wpqr_loss: 0.0740 - val_wpqr_orientation_angle: 4.0150\n",
      "Epoch 36/40\n",
      "18/18 [==============================] - 21s 1s/step - loss: 2.3588 - xyz_loss: 0.5987 - wpqr_loss: 0.0718 - wpqr_orientation_angle: 5.6373 - val_loss: 2.3241 - val_xyz_loss: 0.4985 - val_wpqr_loss: 0.0751 - val_wpqr_orientation_angle: 4.1729\n",
      "Epoch 37/40\n",
      "18/18 [==============================] - 21s 1s/step - loss: 1.9361 - xyz_loss: 0.5776 - wpqr_loss: 0.0518 - wpqr_orientation_angle: 5.7010 - val_loss: 1.5407 - val_xyz_loss: 0.4899 - val_wpqr_loss: 0.0365 - val_wpqr_orientation_angle: 4.1783\n",
      "Epoch 38/40\n",
      "18/18 [==============================] - 21s 1s/step - loss: 1.9843 - xyz_loss: 0.6047 - wpqr_loss: 0.0529 - wpqr_orientation_angle: 5.3437 - val_loss: 1.7755 - val_xyz_loss: 0.5008 - val_wpqr_loss: 0.0477 - val_wpqr_orientation_angle: 5.5042\n",
      "Epoch 39/40\n",
      "18/18 [==============================] - 21s 1s/step - loss: 1.9923 - xyz_loss: 0.6024 - wpqr_loss: 0.0535 - wpqr_orientation_angle: 5.4208 - val_loss: 1.5254 - val_xyz_loss: 0.4589 - val_wpqr_loss: 0.0373 - val_wpqr_orientation_angle: 4.2894\n",
      "Epoch 40/40\n",
      "18/18 [==============================] - 21s 1s/step - loss: 2.0395 - xyz_loss: 0.5789 - wpqr_loss: 0.0571 - wpqr_orientation_angle: 5.5638 - val_loss: 1.8845 - val_xyz_loss: 0.4791 - val_wpqr_loss: 0.0543 - val_wpqr_orientation_angle: 4.0413\n"
     ]
    }
   ],
   "source": [
    "model_builder.fit_model(model, traingen, testgen,\n",
    "                        epochs=40, lr=0.001, lr_decay_rate=0.1, lr_decay_step=10, min_lr=0.00005,\n",
    "                        beta=20)"
   ]
  }
 ],
 "metadata": {
  "accelerator": "GPU",
  "colab": {
   "collapsed_sections": [],
   "name": "Copy of train_model.ipynb",
   "provenance": [],
   "toc_visible": true
  },
  "kernelspec": {
   "display_name": "Python 3",
   "language": "python",
   "name": "python3"
  },
  "language_info": {
   "codemirror_mode": {
    "name": "ipython",
    "version": 3
   },
   "file_extension": ".py",
   "mimetype": "text/x-python",
   "name": "python",
   "nbconvert_exporter": "python",
   "pygments_lexer": "ipython3",
   "version": "3.7.1"
  }
 },
 "nbformat": 4,
 "nbformat_minor": 2
}
